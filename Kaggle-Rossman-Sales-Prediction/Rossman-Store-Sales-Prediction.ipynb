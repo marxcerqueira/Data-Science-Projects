{
 "cells": [
  {
   "cell_type": "markdown",
   "id": "romance-development",
   "metadata": {},
   "source": [
    "# Rossman Store Sales Prediction"
   ]
  },
  {
   "cell_type": "markdown",
   "id": "broadband-stations",
   "metadata": {},
   "source": [
    "## Imports"
   ]
  },
  {
   "cell_type": "code",
   "execution_count": 1,
   "id": "anticipated-borough",
   "metadata": {
    "ExecuteTime": {
     "end_time": "2021-02-19T14:44:14.753519Z",
     "start_time": "2021-02-19T14:44:14.378698Z"
    }
   },
   "outputs": [],
   "source": [
    "import pandas as pd"
   ]
  },
  {
   "cell_type": "markdown",
   "id": "casual-explosion",
   "metadata": {},
   "source": [
    "### Helper Functions"
   ]
  },
  {
   "cell_type": "code",
   "execution_count": null,
   "id": "flexible-fossil",
   "metadata": {},
   "outputs": [],
   "source": []
  },
  {
   "cell_type": "markdown",
   "id": "genuine-daughter",
   "metadata": {},
   "source": [
    "### Loading Data"
   ]
  },
  {
   "cell_type": "code",
   "execution_count": 2,
   "id": "distributed-uganda",
   "metadata": {
    "ExecuteTime": {
     "end_time": "2021-02-19T14:46:04.152928Z",
     "start_time": "2021-02-19T14:46:03.385903Z"
    }
   },
   "outputs": [
    {
     "ename": "TypeError",
     "evalue": "merge() missing 2 required positional arguments: 'left' and 'right'",
     "output_type": "error",
     "traceback": [
      "\u001b[1;31m---------------------------------------------------------------------------\u001b[0m",
      "\u001b[1;31mTypeError\u001b[0m                                 Traceback (most recent call last)",
      "\u001b[1;32m<ipython-input-2-9ae9958554c5>\u001b[0m in \u001b[0;36m<module>\u001b[1;34m\u001b[0m\n\u001b[0;32m      4\u001b[0m \u001b[1;31m# Merge\u001b[0m\u001b[1;33m\u001b[0m\u001b[1;33m\u001b[0m\u001b[1;33m\u001b[0m\u001b[0m\n\u001b[0;32m      5\u001b[0m \u001b[1;33m\u001b[0m\u001b[0m\n\u001b[1;32m----> 6\u001b[1;33m \u001b[0mdf_raw\u001b[0m \u001b[1;33m=\u001b[0m \u001b[0mpd\u001b[0m\u001b[1;33m.\u001b[0m\u001b[0mmerge\u001b[0m\u001b[1;33m(\u001b[0m\u001b[1;33m)\u001b[0m\u001b[1;33m\u001b[0m\u001b[1;33m\u001b[0m\u001b[0m\n\u001b[0m",
      "\u001b[1;31mTypeError\u001b[0m: merge() missing 2 required positional arguments: 'left' and 'right'"
     ]
    }
   ],
   "source": [
    "df_sales_raw = pd.read_csv('data/train.csv', low_memory = False)\n",
    "df_store_raw = pd.read_csv('data/store.csv', low_memory = False)\n",
    "\n",
    "# Merge\n",
    "\n",
    "df_raw = pd.merge()"
   ]
  },
  {
   "cell_type": "markdown",
   "id": "packed-million",
   "metadata": {
    "heading_collapsed": true
   },
   "source": [
    "## Data Description"
   ]
  },
  {
   "cell_type": "markdown",
   "id": "golden-melbourne",
   "metadata": {
    "hidden": true
   },
   "source": [
    "### 01"
   ]
  },
  {
   "cell_type": "code",
   "execution_count": null,
   "id": "extensive-terrace",
   "metadata": {
    "hidden": true
   },
   "outputs": [],
   "source": []
  },
  {
   "cell_type": "markdown",
   "id": "delayed-rover",
   "metadata": {
    "hidden": true
   },
   "source": [
    "### 01"
   ]
  },
  {
   "cell_type": "markdown",
   "id": "boxed-murder",
   "metadata": {
    "hidden": true
   },
   "source": [
    "### 01"
   ]
  },
  {
   "cell_type": "markdown",
   "id": "reported-acoustic",
   "metadata": {
    "hidden": true
   },
   "source": [
    "### 01"
   ]
  },
  {
   "cell_type": "markdown",
   "id": "european-location",
   "metadata": {
    "hidden": true
   },
   "source": [
    "### 01"
   ]
  },
  {
   "cell_type": "markdown",
   "id": "interstate-protest",
   "metadata": {
    "hidden": true
   },
   "source": [
    "### 01"
   ]
  },
  {
   "cell_type": "markdown",
   "id": "secondary-bruce",
   "metadata": {
    "hidden": true
   },
   "source": [
    "### 01"
   ]
  },
  {
   "cell_type": "markdown",
   "id": "taken-retirement",
   "metadata": {
    "hidden": true
   },
   "source": [
    "### 01"
   ]
  },
  {
   "cell_type": "code",
   "execution_count": null,
   "id": "essential-collection",
   "metadata": {
    "hidden": true
   },
   "outputs": [],
   "source": []
  }
 ],
 "metadata": {
  "kernelspec": {
   "display_name": "Python 3",
   "language": "python",
   "name": "python3"
  },
  "language_info": {
   "codemirror_mode": {
    "name": "ipython",
    "version": 3
   },
   "file_extension": ".py",
   "mimetype": "text/x-python",
   "name": "python",
   "nbconvert_exporter": "python",
   "pygments_lexer": "ipython3",
   "version": "3.9.1"
  },
  "toc": {
   "base_numbering": 1,
   "nav_menu": {},
   "number_sections": true,
   "sideBar": true,
   "skip_h1_title": false,
   "title_cell": "Table of Contents",
   "title_sidebar": "Contents",
   "toc_cell": false,
   "toc_position": {},
   "toc_section_display": true,
   "toc_window_display": false
  }
 },
 "nbformat": 4,
 "nbformat_minor": 5
}
