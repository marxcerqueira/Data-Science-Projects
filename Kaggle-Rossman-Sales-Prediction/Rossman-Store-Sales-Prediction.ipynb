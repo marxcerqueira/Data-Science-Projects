{
 "cells": [
  {
   "cell_type": "markdown",
   "id": "romance-development",
   "metadata": {},
   "source": [
    " Rossman Store Sales Prediction"
   ]
  },
  {
   "cell_type": "markdown",
   "id": "broadband-stations",
   "metadata": {},
   "source": [
    "## IMPORTS"
   ]
  },
  {
   "cell_type": "code",
   "execution_count": 1,
   "id": "anticipated-borough",
   "metadata": {
    "ExecuteTime": {
     "end_time": "2021-03-19T01:04:50.476937Z",
     "start_time": "2021-03-19T01:04:47.765442Z"
    }
   },
   "outputs": [
    {
     "name": "stdout",
     "output_type": "stream",
     "text": [
      "Versão da Linguagem Python Usada Neste Jupyter Notebook: 3.9.1\n"
     ]
    }
   ],
   "source": [
    "import math\n",
    "import pandas            as pd\n",
    "import numpy             as np\n",
    "import seaborn           as sns\n",
    "import matplotlib.pyplot as plt\n",
    "import inflection\n",
    "import datetime\n",
    "import warnings\n",
    "import random\n",
    "import pickle\n",
    "\n",
    "import xgboost as xgb\n",
    "\n",
    "from tabulate                import tabulate\n",
    "from pandas.api.types        import is_string_dtype, is_numeric_dtype\n",
    "from matplotlib              import gridspec\n",
    "from scipy                   import stats as ss\n",
    "from sklearn.preprocessing   import RobustScaler, MinMaxScaler, LabelEncoder\n",
    "from sklearn.ensemble        import RandomForestRegressor\n",
    "from sklearn.metrics         import mean_absolute_error, mean_squared_error\n",
    "from sklearn.linear_model    import LinearRegression, Lasso\n",
    "from boruta                  import BorutaPy\n",
    "\n",
    "from IPython.core.display    import HTML\n",
    "from IPython.display         import Image\n",
    "\n",
    "# Versão da Linguagem Python\n",
    "from platform                import python_version\n",
    "print('Versão da Linguagem Python Usada Neste Jupyter Notebook:', python_version())\n",
    "warnings.filterwarnings( 'ignore' )"
   ]
  },
  {
   "cell_type": "markdown",
   "id": "casual-explosion",
   "metadata": {},
   "source": [
    "### Helper Functions"
   ]
  },
  {
   "cell_type": "code",
   "execution_count": 2,
   "id": "flexible-fossil",
   "metadata": {
    "ExecuteTime": {
     "end_time": "2021-03-19T01:04:50.508848Z",
     "start_time": "2021-03-19T01:04:50.477930Z"
    }
   },
   "outputs": [],
   "source": [
    "def jupyter_settings():\n",
    "    %matplotlib inline\n",
    "    %pylab inline\n",
    "    \n",
    "    plt.style.use( 'bmh' )\n",
    "    plt.rcParams['figure.figsize'] = [25, 12]\n",
    "    plt.rcParams['font.size'] = 24\n",
    "    \n",
    "    display( HTML( '<style>.container { width:100% !important; }</style>') )\n",
    "    pd.options.display.max_columns = None\n",
    "    pd.options.display.max_rows = None\n",
    "    pd.set_option( 'display.expand_frame_repr', False )\n",
    "    \n",
    "    sns.set()\n",
    "    \n",
    "def cramer_v( x, y ):\n",
    "    cm = pd.crosstab( x, y ).values # Confusion Matrix\n",
    "    n = cm.sum()\n",
    "    r, k = cm.shape\n",
    "    \n",
    "    chi2 = ss.chi2_contingency( cm )[0]\n",
    "    chi2corr = max( 0, chi2 - (k-1)*(r-1)/(n-1) )\n",
    "    \n",
    "    kcorr = k - (k-1)**2/(n-1)\n",
    "    rcorr = r - (r-1)**2/(n-1)\n",
    "    \n",
    "    return np.sqrt( (chi2corr/n) / ( min( kcorr-1, rcorr-1 ) ) )\n",
    "\n",
    "def mean_absolute_percentage_error( y, yhat ):\n",
    "    return np.mean( np.abs( ( y-yhat ) / y ))\n",
    "\n",
    "def mean_percentage_error( y, yhat ):\n",
    "    return np.mean( ( y - yhat ) / y )\n",
    "\n",
    "def ml_error ( model_name, y, yhat):\n",
    "    mae = mean_absolute_error( y,yhat )\n",
    "    mape = mean_absolute_percentage_error( y,yhat )\n",
    "    rmse = np.sqrt(mean_squared_error( y,yhat ))\n",
    "    \n",
    "    return pd.DataFrame( {'Model Name': model_name,\n",
    "                          'MAE': mae,\n",
    "                          'MAPE': mape,\n",
    "                          'RMSE': rmse}, index=[0])\n",
    "\n",
    "def cross_validation( x_training, kfold, model_name, model, verbose=False ):\n",
    "    mae_list = []\n",
    "    mape_list = []\n",
    "    rmse_list = []\n",
    "    \n",
    "    for k in reversed( range( 1, kfold+1 ) ):\n",
    "        if verbose:\n",
    "            print( '\\nKFold Number: {}'.format( k ) )\n",
    "        # start and end date for validation \n",
    "        start_date_validation = x_training['date'].max() - datetime.timedelta( days=k*6*7)\n",
    "        end_date_validation = x_training['date'].max() - datetime.timedelta( days=(k-1)*6*7)\n",
    "\n",
    "        # filtering dataset\n",
    "        training = x_training[x_training['date'] < start_date_validation]\n",
    "        validation = x_training[(x_training['date'] >= start_date_validation) & (x_training['date'] <= end_date_validation)]\n",
    "\n",
    "        # training and validation dataset\n",
    "        # training\n",
    "        xtraining = training.drop( ['date', 'sales'], axis=1 ) \n",
    "        ytraining = training['sales']\n",
    "\n",
    "        # validation\n",
    "        xvalidation = validation.drop( ['date', 'sales'], axis=1 )\n",
    "        yvalidation = validation['sales']\n",
    "\n",
    "        # model\n",
    "        m = model.fit( xtraining, ytraining )\n",
    "\n",
    "        # prediction\n",
    "        yhat = m.predict( xvalidation )\n",
    "\n",
    "        # performance\n",
    "        m_result = ml_error( model_name, np.expm1( yvalidation ), np.expm1( yhat ) )\n",
    "\n",
    "        # store performance of each kfold iteration\n",
    "        mae_list.append(  m_result['MAE'] )\n",
    "        mape_list.append( m_result['MAPE'] )\n",
    "        rmse_list.append( m_result['RMSE'] )\n",
    "\n",
    "    return pd.DataFrame( {'Model Name': model_name,\n",
    "                          'MAE CV': np.round( np.mean( mae_list ), 2 ).astype( str ) + ' +/- ' + np.round( np.std( mae_list ), 2 ).astype( str ),\n",
    "                          'MAPE CV': np.round( np.mean( mape_list ), 2 ).astype( str ) + ' +/- ' + np.round( np.std( mape_list ), 2 ).astype( str ),\n",
    "                          'RMSE CV': np.round( np.mean( rmse_list ), 2 ).astype( str ) + ' +/- ' + np.round( np.std( rmse_list ), 2 ).astype( str ) }, index=[0] )\n"
   ]
  },
  {
   "cell_type": "code",
   "execution_count": 3,
   "id": "together-animation",
   "metadata": {
    "ExecuteTime": {
     "end_time": "2021-03-19T01:04:51.833774Z",
     "start_time": "2021-03-19T01:04:51.813857Z"
    }
   },
   "outputs": [
    {
     "name": "stdout",
     "output_type": "stream",
     "text": [
      "Populating the interactive namespace from numpy and matplotlib\n"
     ]
    },
    {
     "data": {
      "text/html": [
       "<style>.container { width:100% !important; }</style>"
      ],
      "text/plain": [
       "<IPython.core.display.HTML object>"
      ]
     },
     "metadata": {},
     "output_type": "display_data"
    }
   ],
   "source": [
    "jupyter_settings()"
   ]
  },
  {
   "cell_type": "markdown",
   "id": "genuine-daughter",
   "metadata": {},
   "source": [
    "\n",
    "### Loading Data"
   ]
  },
  {
   "cell_type": "code",
   "execution_count": 4,
   "id": "distributed-uganda",
   "metadata": {
    "ExecuteTime": {
     "end_time": "2021-03-19T01:04:56.836800Z",
     "start_time": "2021-03-19T01:04:56.064208Z"
    }
   },
   "outputs": [],
   "source": [
    "df_sales_raw = pd.read_csv('data/train.csv', low_memory = False)\n",
    "df_store_raw = pd.read_csv('data/store.csv', low_memory = False)\n",
    "\n",
    "# Merge\n",
    "df_raw = pd.merge( df_sales_raw, df_store_raw, how = 'left', on = 'Store' )"
   ]
  },
  {
   "cell_type": "code",
   "execution_count": 6,
   "id": "becoming-laundry",
   "metadata": {
    "ExecuteTime": {
     "end_time": "2021-03-18T20:14:04.504692Z",
     "start_time": "2021-03-18T20:14:04.473776Z"
    },
    "scrolled": true
   },
   "outputs": [
    {
     "data": {
      "text/html": [
       "<div>\n",
       "<style scoped>\n",
       "    .dataframe tbody tr th:only-of-type {\n",
       "        vertical-align: middle;\n",
       "    }\n",
       "\n",
       "    .dataframe tbody tr th {\n",
       "        vertical-align: top;\n",
       "    }\n",
       "\n",
       "    .dataframe thead th {\n",
       "        text-align: right;\n",
       "    }\n",
       "</style>\n",
       "<table border=\"1\" class=\"dataframe\">\n",
       "  <thead>\n",
       "    <tr style=\"text-align: right;\">\n",
       "      <th></th>\n",
       "      <th>Store</th>\n",
       "      <th>DayOfWeek</th>\n",
       "      <th>Date</th>\n",
       "      <th>Sales</th>\n",
       "      <th>Customers</th>\n",
       "      <th>Open</th>\n",
       "      <th>Promo</th>\n",
       "      <th>StateHoliday</th>\n",
       "      <th>SchoolHoliday</th>\n",
       "      <th>StoreType</th>\n",
       "      <th>Assortment</th>\n",
       "      <th>CompetitionDistance</th>\n",
       "      <th>CompetitionOpenSinceMonth</th>\n",
       "      <th>CompetitionOpenSinceYear</th>\n",
       "      <th>Promo2</th>\n",
       "      <th>Promo2SinceWeek</th>\n",
       "      <th>Promo2SinceYear</th>\n",
       "      <th>PromoInterval</th>\n",
       "    </tr>\n",
       "  </thead>\n",
       "  <tbody>\n",
       "    <tr>\n",
       "      <th>0</th>\n",
       "      <td>1</td>\n",
       "      <td>5</td>\n",
       "      <td>2015-07-31</td>\n",
       "      <td>5263</td>\n",
       "      <td>555</td>\n",
       "      <td>1</td>\n",
       "      <td>1</td>\n",
       "      <td>0</td>\n",
       "      <td>1</td>\n",
       "      <td>c</td>\n",
       "      <td>a</td>\n",
       "      <td>1270.0</td>\n",
       "      <td>9.0</td>\n",
       "      <td>2008.0</td>\n",
       "      <td>0</td>\n",
       "      <td>NaN</td>\n",
       "      <td>NaN</td>\n",
       "      <td>NaN</td>\n",
       "    </tr>\n",
       "    <tr>\n",
       "      <th>1</th>\n",
       "      <td>2</td>\n",
       "      <td>5</td>\n",
       "      <td>2015-07-31</td>\n",
       "      <td>6064</td>\n",
       "      <td>625</td>\n",
       "      <td>1</td>\n",
       "      <td>1</td>\n",
       "      <td>0</td>\n",
       "      <td>1</td>\n",
       "      <td>a</td>\n",
       "      <td>a</td>\n",
       "      <td>570.0</td>\n",
       "      <td>11.0</td>\n",
       "      <td>2007.0</td>\n",
       "      <td>1</td>\n",
       "      <td>13.0</td>\n",
       "      <td>2010.0</td>\n",
       "      <td>Jan,Apr,Jul,Oct</td>\n",
       "    </tr>\n",
       "    <tr>\n",
       "      <th>2</th>\n",
       "      <td>3</td>\n",
       "      <td>5</td>\n",
       "      <td>2015-07-31</td>\n",
       "      <td>8314</td>\n",
       "      <td>821</td>\n",
       "      <td>1</td>\n",
       "      <td>1</td>\n",
       "      <td>0</td>\n",
       "      <td>1</td>\n",
       "      <td>a</td>\n",
       "      <td>a</td>\n",
       "      <td>14130.0</td>\n",
       "      <td>12.0</td>\n",
       "      <td>2006.0</td>\n",
       "      <td>1</td>\n",
       "      <td>14.0</td>\n",
       "      <td>2011.0</td>\n",
       "      <td>Jan,Apr,Jul,Oct</td>\n",
       "    </tr>\n",
       "    <tr>\n",
       "      <th>3</th>\n",
       "      <td>4</td>\n",
       "      <td>5</td>\n",
       "      <td>2015-07-31</td>\n",
       "      <td>13995</td>\n",
       "      <td>1498</td>\n",
       "      <td>1</td>\n",
       "      <td>1</td>\n",
       "      <td>0</td>\n",
       "      <td>1</td>\n",
       "      <td>c</td>\n",
       "      <td>c</td>\n",
       "      <td>620.0</td>\n",
       "      <td>9.0</td>\n",
       "      <td>2009.0</td>\n",
       "      <td>0</td>\n",
       "      <td>NaN</td>\n",
       "      <td>NaN</td>\n",
       "      <td>NaN</td>\n",
       "    </tr>\n",
       "    <tr>\n",
       "      <th>4</th>\n",
       "      <td>5</td>\n",
       "      <td>5</td>\n",
       "      <td>2015-07-31</td>\n",
       "      <td>4822</td>\n",
       "      <td>559</td>\n",
       "      <td>1</td>\n",
       "      <td>1</td>\n",
       "      <td>0</td>\n",
       "      <td>1</td>\n",
       "      <td>a</td>\n",
       "      <td>a</td>\n",
       "      <td>29910.0</td>\n",
       "      <td>4.0</td>\n",
       "      <td>2015.0</td>\n",
       "      <td>0</td>\n",
       "      <td>NaN</td>\n",
       "      <td>NaN</td>\n",
       "      <td>NaN</td>\n",
       "    </tr>\n",
       "  </tbody>\n",
       "</table>\n",
       "</div>"
      ],
      "text/plain": [
       "   Store  DayOfWeek        Date  Sales  Customers  Open  Promo StateHoliday  SchoolHoliday StoreType Assortment  CompetitionDistance  CompetitionOpenSinceMonth  CompetitionOpenSinceYear  Promo2  Promo2SinceWeek  Promo2SinceYear    PromoInterval\n",
       "0      1          5  2015-07-31   5263        555     1      1            0              1         c          a               1270.0                        9.0                    2008.0       0              NaN              NaN              NaN\n",
       "1      2          5  2015-07-31   6064        625     1      1            0              1         a          a                570.0                       11.0                    2007.0       1             13.0           2010.0  Jan,Apr,Jul,Oct\n",
       "2      3          5  2015-07-31   8314        821     1      1            0              1         a          a              14130.0                       12.0                    2006.0       1             14.0           2011.0  Jan,Apr,Jul,Oct\n",
       "3      4          5  2015-07-31  13995       1498     1      1            0              1         c          c                620.0                        9.0                    2009.0       0              NaN              NaN              NaN\n",
       "4      5          5  2015-07-31   4822        559     1      1            0              1         a          a              29910.0                        4.0                    2015.0       0              NaN              NaN              NaN"
      ]
     },
     "execution_count": 6,
     "metadata": {},
     "output_type": "execute_result"
    }
   ],
   "source": [
    "df_raw.head()"
   ]
  },
  {
   "cell_type": "markdown",
   "id": "packed-million",
   "metadata": {},
   "source": [
    "## DATA DISCRIPTION"
   ]
  },
  {
   "cell_type": "code",
   "execution_count": 7,
   "id": "together-farming",
   "metadata": {
    "ExecuteTime": {
     "end_time": "2021-03-18T20:14:06.008460Z",
     "start_time": "2021-03-18T20:14:05.969592Z"
    }
   },
   "outputs": [],
   "source": [
    "#Copy dataset\n",
    "df1 = df_raw.copy()"
   ]
  },
  {
   "cell_type": "markdown",
   "id": "golden-melbourne",
   "metadata": {},
   "source": [
    "### Rename Columns"
   ]
  },
  {
   "cell_type": "code",
   "execution_count": 8,
   "id": "extensive-terrace",
   "metadata": {
    "ExecuteTime": {
     "end_time": "2021-03-18T20:14:07.652514Z",
     "start_time": "2021-03-18T20:14:07.639549Z"
    }
   },
   "outputs": [],
   "source": [
    "cols_old = ['Store', 'DayOfWeek', 'Date', 'Sales', 'Customers', 'Open', 'Promo',\n",
    "       'StateHoliday', 'SchoolHoliday', 'StoreType', 'Assortment',\n",
    "       'CompetitionDistance', 'CompetitionOpenSinceMonth',\n",
    "       'CompetitionOpenSinceYear', 'Promo2', 'Promo2SinceWeek',\n",
    "       'Promo2SinceYear', 'PromoInterval']\n",
    "\n",
    "snakecase = lambda x: inflection.underscore(x)\n",
    "\n",
    "cols_new = list( map( snakecase, cols_old ) )\n",
    "\n",
    "#Rename Columns\n",
    "\n",
    "df1.columns = cols_new"
   ]
  },
  {
   "cell_type": "code",
   "execution_count": 9,
   "id": "qualified-prayer",
   "metadata": {
    "ExecuteTime": {
     "end_time": "2021-03-18T20:14:09.597170Z",
     "start_time": "2021-03-18T20:14:09.590188Z"
    },
    "scrolled": true
   },
   "outputs": [
    {
     "data": {
      "text/plain": [
       "Index(['store', 'day_of_week', 'date', 'sales', 'customers', 'open', 'promo',\n",
       "       'state_holiday', 'school_holiday', 'store_type', 'assortment',\n",
       "       'competition_distance', 'competition_open_since_month',\n",
       "       'competition_open_since_year', 'promo2', 'promo2_since_week',\n",
       "       'promo2_since_year', 'promo_interval'],\n",
       "      dtype='object')"
      ]
     },
     "execution_count": 9,
     "metadata": {},
     "output_type": "execute_result"
    }
   ],
   "source": [
    "df1.columns"
   ]
  },
  {
   "cell_type": "markdown",
   "id": "delayed-rover",
   "metadata": {},
   "source": [
    "### Data Dimension"
   ]
  },
  {
   "cell_type": "code",
   "execution_count": 10,
   "id": "secret-horizontal",
   "metadata": {
    "ExecuteTime": {
     "end_time": "2021-03-18T20:14:11.047907Z",
     "start_time": "2021-03-18T20:14:11.039928Z"
    }
   },
   "outputs": [
    {
     "name": "stdout",
     "output_type": "stream",
     "text": [
      "Number of Rows: 1017209\n",
      "Number of Cols: 18\n"
     ]
    }
   ],
   "source": [
    "print( 'Number of Rows: {}'.format( df1.shape[0] ) )\n",
    "print( 'Number of Cols: {}'.format( df1.shape[1] ) )"
   ]
  },
  {
   "cell_type": "markdown",
   "id": "boxed-murder",
   "metadata": {},
   "source": [
    "### Data Types"
   ]
  },
  {
   "cell_type": "code",
   "execution_count": 11,
   "id": "protected-vietnam",
   "metadata": {
    "ExecuteTime": {
     "end_time": "2021-03-18T20:14:14.630075Z",
     "start_time": "2021-03-18T20:14:14.420634Z"
    }
   },
   "outputs": [
    {
     "name": "stdout",
     "output_type": "stream",
     "text": [
      "<class 'pandas.core.frame.DataFrame'>\n",
      "Int64Index: 1017209 entries, 0 to 1017208\n",
      "Data columns (total 18 columns):\n",
      " #   Column                        Non-Null Count    Dtype         \n",
      "---  ------                        --------------    -----         \n",
      " 0   store                         1017209 non-null  int64         \n",
      " 1   day_of_week                   1017209 non-null  int64         \n",
      " 2   date                          1017209 non-null  datetime64[ns]\n",
      " 3   sales                         1017209 non-null  int64         \n",
      " 4   customers                     1017209 non-null  int64         \n",
      " 5   open                          1017209 non-null  int64         \n",
      " 6   promo                         1017209 non-null  int64         \n",
      " 7   state_holiday                 1017209 non-null  object        \n",
      " 8   school_holiday                1017209 non-null  int64         \n",
      " 9   store_type                    1017209 non-null  object        \n",
      " 10  assortment                    1017209 non-null  object        \n",
      " 11  competition_distance          1014567 non-null  float64       \n",
      " 12  competition_open_since_month  693861 non-null   float64       \n",
      " 13  competition_open_since_year   693861 non-null   float64       \n",
      " 14  promo2                        1017209 non-null  int64         \n",
      " 15  promo2_since_week             509178 non-null   float64       \n",
      " 16  promo2_since_year             509178 non-null   float64       \n",
      " 17  promo_interval                509178 non-null   object        \n",
      "dtypes: datetime64[ns](1), float64(5), int64(8), object(4)\n",
      "memory usage: 147.5+ MB\n"
     ]
    }
   ],
   "source": [
    "#Change datatype of column data to datetime\n",
    "df1['date'] = pd.to_datetime( df1[ 'date' ] )\n",
    "df1.info()"
   ]
  },
  {
   "cell_type": "markdown",
   "id": "reported-acoustic",
   "metadata": {},
   "source": [
    "### Check NA values"
   ]
  },
  {
   "cell_type": "code",
   "execution_count": 12,
   "id": "opponent-component",
   "metadata": {
    "ExecuteTime": {
     "end_time": "2021-03-18T20:14:17.742246Z",
     "start_time": "2021-03-18T20:14:17.479949Z"
    },
    "scrolled": false
   },
   "outputs": [
    {
     "data": {
      "text/html": [
       "<div>\n",
       "<style scoped>\n",
       "    .dataframe tbody tr th:only-of-type {\n",
       "        vertical-align: middle;\n",
       "    }\n",
       "\n",
       "    .dataframe tbody tr th {\n",
       "        vertical-align: top;\n",
       "    }\n",
       "\n",
       "    .dataframe thead th {\n",
       "        text-align: right;\n",
       "    }\n",
       "</style>\n",
       "<table border=\"1\" class=\"dataframe\">\n",
       "  <thead>\n",
       "    <tr style=\"text-align: right;\">\n",
       "      <th></th>\n",
       "      <th>missing values count</th>\n",
       "      <th>percentage</th>\n",
       "    </tr>\n",
       "  </thead>\n",
       "  <tbody>\n",
       "    <tr>\n",
       "      <th>store</th>\n",
       "      <td>0</td>\n",
       "      <td>0.00</td>\n",
       "    </tr>\n",
       "    <tr>\n",
       "      <th>day_of_week</th>\n",
       "      <td>0</td>\n",
       "      <td>0.00</td>\n",
       "    </tr>\n",
       "    <tr>\n",
       "      <th>date</th>\n",
       "      <td>0</td>\n",
       "      <td>0.00</td>\n",
       "    </tr>\n",
       "    <tr>\n",
       "      <th>sales</th>\n",
       "      <td>0</td>\n",
       "      <td>0.00</td>\n",
       "    </tr>\n",
       "    <tr>\n",
       "      <th>customers</th>\n",
       "      <td>0</td>\n",
       "      <td>0.00</td>\n",
       "    </tr>\n",
       "    <tr>\n",
       "      <th>open</th>\n",
       "      <td>0</td>\n",
       "      <td>0.00</td>\n",
       "    </tr>\n",
       "    <tr>\n",
       "      <th>promo</th>\n",
       "      <td>0</td>\n",
       "      <td>0.00</td>\n",
       "    </tr>\n",
       "    <tr>\n",
       "      <th>state_holiday</th>\n",
       "      <td>0</td>\n",
       "      <td>0.00</td>\n",
       "    </tr>\n",
       "    <tr>\n",
       "      <th>school_holiday</th>\n",
       "      <td>0</td>\n",
       "      <td>0.00</td>\n",
       "    </tr>\n",
       "    <tr>\n",
       "      <th>store_type</th>\n",
       "      <td>0</td>\n",
       "      <td>0.00</td>\n",
       "    </tr>\n",
       "    <tr>\n",
       "      <th>assortment</th>\n",
       "      <td>0</td>\n",
       "      <td>0.00</td>\n",
       "    </tr>\n",
       "    <tr>\n",
       "      <th>competition_distance</th>\n",
       "      <td>2642</td>\n",
       "      <td>0.26</td>\n",
       "    </tr>\n",
       "    <tr>\n",
       "      <th>competition_open_since_month</th>\n",
       "      <td>323348</td>\n",
       "      <td>31.79</td>\n",
       "    </tr>\n",
       "    <tr>\n",
       "      <th>competition_open_since_year</th>\n",
       "      <td>323348</td>\n",
       "      <td>31.79</td>\n",
       "    </tr>\n",
       "    <tr>\n",
       "      <th>promo2</th>\n",
       "      <td>0</td>\n",
       "      <td>0.00</td>\n",
       "    </tr>\n",
       "    <tr>\n",
       "      <th>promo2_since_week</th>\n",
       "      <td>508031</td>\n",
       "      <td>49.94</td>\n",
       "    </tr>\n",
       "    <tr>\n",
       "      <th>promo2_since_year</th>\n",
       "      <td>508031</td>\n",
       "      <td>49.94</td>\n",
       "    </tr>\n",
       "    <tr>\n",
       "      <th>promo_interval</th>\n",
       "      <td>508031</td>\n",
       "      <td>49.94</td>\n",
       "    </tr>\n",
       "  </tbody>\n",
       "</table>\n",
       "</div>"
      ],
      "text/plain": [
       "                              missing values count  percentage\n",
       "store                                            0        0.00\n",
       "day_of_week                                      0        0.00\n",
       "date                                             0        0.00\n",
       "sales                                            0        0.00\n",
       "customers                                        0        0.00\n",
       "open                                             0        0.00\n",
       "promo                                            0        0.00\n",
       "state_holiday                                    0        0.00\n",
       "school_holiday                                   0        0.00\n",
       "store_type                                       0        0.00\n",
       "assortment                                       0        0.00\n",
       "competition_distance                          2642        0.26\n",
       "competition_open_since_month                323348       31.79\n",
       "competition_open_since_year                 323348       31.79\n",
       "promo2                                           0        0.00\n",
       "promo2_since_week                           508031       49.94\n",
       "promo2_since_year                           508031       49.94\n",
       "promo_interval                              508031       49.94"
      ]
     },
     "execution_count": 12,
     "metadata": {},
     "output_type": "execute_result"
    }
   ],
   "source": [
    "#Checking NA values sum\n",
    "missing_count = df1.isnull().sum() # the count of missing values\n",
    "value_count = df1.isnull().count() # the count of all values\n",
    "\n",
    "missing_percentage = round(missing_count/value_count *100, 2) # the percentage of missing values\n",
    "missing_df = pd.DataFrame({'missing values count': missing_count, 'percentage': missing_percentage})\n",
    "missing_df"
   ]
  },
  {
   "cell_type": "code",
   "execution_count": 13,
   "id": "twelve-accuracy",
   "metadata": {
    "ExecuteTime": {
     "end_time": "2021-03-18T20:14:18.837061Z",
     "start_time": "2021-03-18T20:14:18.519446Z"
    }
   },
   "outputs": [
    {
     "data": {
      "image/png": "[encoded data removed]",
      "text/plain": [
       "<Figure size 1800x864 with 1 Axes>"
      ]
     },
     "metadata": {},
     "output_type": "display_data"
    }
   ],
   "source": [
    "barchart = missing_df.plot.bar(y='percentage')\n",
    "for index, percentage in enumerate( missing_percentage ):\n",
    "    barchart.text( index, percentage, str(percentage)+'%')"
   ]
  },
  {
   "cell_type": "markdown",
   "id": "european-location",
   "metadata": {},
   "source": [
    "### Fillout NA"
   ]
  },
  {
   "cell_type": "code",
   "execution_count": 14,
   "id": "ranging-cricket",
   "metadata": {
    "ExecuteTime": {
     "end_time": "2021-03-18T20:15:12.516534Z",
     "start_time": "2021-03-18T20:14:20.388632Z"
    }
   },
   "outputs": [],
   "source": [
    "# competition_distance\n",
    "df1['competition_distance'] = df1['competition_distance'].apply(lambda x: 200000.0 if math.isnan( x ) else x )\n",
    "\n",
    "# competition_open_since_month\n",
    "df1['competition_open_since_month'] = df1.apply( lambda x: x['date'].month if math.isnan( x['competition_open_since_month'] ) else x['competition_open_since_month'],\n",
    "                                               axis = 1 )\n",
    "# competition_open_since_year\n",
    "df1['competition_open_since_year'] = df1.apply( lambda x: x['date'].year if math.isnan( x['competition_open_since_year'] ) else x['competition_open_since_year'],\n",
    "                                               axis = 1 )\n",
    "# promo2_since_week\n",
    "df1['promo2_since_week'] = df1.apply( lambda x: x['date'].week if math.isnan( x['promo2_since_week'] ) else x['promo2_since_week'],\n",
    "                                               axis = 1 )\n",
    "# promo2_since_year\n",
    "df1['promo2_since_year'] = df1.apply( lambda x: x['date'].year if math.isnan( x['promo2_since_year'] ) else x['promo2_since_year'],\n",
    "                                               axis = 1 )\n",
    "# promo_interval\n",
    "month_map = {1: 'Jan', 2: 'Feb', 3: 'Mar', 4: 'Apr', 5:'May', 6: 'Jun', 7: 'Jul', 8: 'Aug', 9: 'Sep', 10: 'Oct', 11: 'Nov', 12: 'Dec'}\n",
    "\n",
    "df1['promo_interval'].fillna( 0, inplace = True)\n",
    "df1['month_map'] = df1['date'].dt.month.map( month_map )\n",
    "df1['is_promo'] = df1[[ 'promo_interval', 'month_map' ]].apply(lambda x: 0 if x['promo_interval'] == 0 else 1 if x['month_map'] in x['promo_interval'].split(',') else 0, axis = 1)"
   ]
  },
  {
   "cell_type": "code",
   "execution_count": 15,
   "id": "acquired-bangkok",
   "metadata": {
    "ExecuteTime": {
     "end_time": "2021-03-18T20:15:12.674141Z",
     "start_time": "2021-03-18T20:15:12.517532Z"
    },
    "scrolled": true
   },
   "outputs": [
    {
     "data": {
      "text/plain": [
       "store                           0\n",
       "day_of_week                     0\n",
       "date                            0\n",
       "sales                           0\n",
       "customers                       0\n",
       "open                            0\n",
       "promo                           0\n",
       "state_holiday                   0\n",
       "school_holiday                  0\n",
       "store_type                      0\n",
       "assortment                      0\n",
       "competition_distance            0\n",
       "competition_open_since_month    0\n",
       "competition_open_since_year     0\n",
       "promo2                          0\n",
       "promo2_since_week               0\n",
       "promo2_since_year               0\n",
       "promo_interval                  0\n",
       "month_map                       0\n",
       "is_promo                        0\n",
       "dtype: int64"
      ]
     },
     "execution_count": 15,
     "metadata": {},
     "output_type": "execute_result"
    }
   ],
   "source": [
    "df1.isna().sum()"
   ]
  },
  {
   "cell_type": "code",
   "execution_count": 17,
   "id": "spanish-daily",
   "metadata": {
    "ExecuteTime": {
     "end_time": "2021-03-18T20:15:21.097558Z",
     "start_time": "2021-03-18T20:15:21.089580Z"
    }
   },
   "outputs": [
    {
     "data": {
      "text/plain": [
       "store                                    int64\n",
       "day_of_week                              int64\n",
       "date                            datetime64[ns]\n",
       "sales                                    int64\n",
       "customers                                int64\n",
       "open                                     int64\n",
       "promo                                    int64\n",
       "state_holiday                           object\n",
       "school_holiday                           int64\n",
       "store_type                              object\n",
       "assortment                              object\n",
       "competition_distance                   float64\n",
       "competition_open_since_month           float64\n",
       "competition_open_since_year            float64\n",
       "promo2                                   int64\n",
       "promo2_since_week                      float64\n",
       "promo2_since_year                      float64\n",
       "promo_interval                          object\n",
       "month_map                               object\n",
       "is_promo                                 int64\n",
       "dtype: object"
      ]
     },
     "execution_count": 17,
     "metadata": {},
     "output_type": "execute_result"
    }
   ],
   "source": [
    "df1.dtypes"
   ]
  },
  {
   "cell_type": "markdown",
   "id": "interstate-protest",
   "metadata": {},
   "source": [
    "### Change Types"
   ]
  },
  {
   "cell_type": "code",
   "execution_count": 18,
   "id": "other-package",
   "metadata": {
    "ExecuteTime": {
     "end_time": "2021-03-18T20:15:26.126312Z",
     "start_time": "2021-03-18T20:15:26.008479Z"
    }
   },
   "outputs": [],
   "source": [
    "df1 = df1.astype({'competition_open_since_month':'int64', 'competition_open_since_year':'int64', 'promo2_since_week':'int64', 'promo2_since_year':'int64' })"
   ]
  },
  {
   "cell_type": "code",
   "execution_count": 19,
   "id": "european-island",
   "metadata": {
    "ExecuteTime": {
     "end_time": "2021-03-18T20:15:27.405443Z",
     "start_time": "2021-03-18T20:15:27.388489Z"
    }
   },
   "outputs": [
    {
     "data": {
      "text/plain": [
       "store                                    int64\n",
       "day_of_week                              int64\n",
       "date                            datetime64[ns]\n",
       "sales                                    int64\n",
       "customers                                int64\n",
       "open                                     int64\n",
       "promo                                    int64\n",
       "state_holiday                           object\n",
       "school_holiday                           int64\n",
       "store_type                              object\n",
       "assortment                              object\n",
       "competition_distance                   float64\n",
       "competition_open_since_month             int64\n",
       "competition_open_since_year              int64\n",
       "promo2                                   int64\n",
       "promo2_since_week                        int64\n",
       "promo2_since_year                        int64\n",
       "promo_interval                          object\n",
       "month_map                               object\n",
       "is_promo                                 int64\n",
       "dtype: object"
      ]
     },
     "execution_count": 19,
     "metadata": {},
     "output_type": "execute_result"
    }
   ],
   "source": [
    "df1.dtypes"
   ]
  },
  {
   "cell_type": "markdown",
   "id": "secondary-bruce",
   "metadata": {
    "heading_collapsed": true
   },
   "source": [
    "### Descriptive Statistics"
   ]
  },
  {
   "cell_type": "code",
   "execution_count": null,
   "id": "above-postage",
   "metadata": {
    "ExecuteTime": {
     "end_time": "2021-03-16T19:30:37.271025Z",
     "start_time": "2021-03-16T19:30:36.796293Z"
    },
    "hidden": true,
    "scrolled": false
   },
   "outputs": [],
   "source": [
    "df1.describe().T"
   ]
  },
  {
   "cell_type": "code",
   "execution_count": null,
   "id": "unlike-young",
   "metadata": {
    "ExecuteTime": {
     "end_time": "2021-03-16T19:30:37.381983Z",
     "start_time": "2021-03-16T19:30:37.272022Z"
    },
    "hidden": true
   },
   "outputs": [],
   "source": [
    "num_attributes = df1.select_dtypes( include = 'number')\n",
    "cate_attributes = df1.select_dtypes( include = 'object')"
   ]
  },
  {
   "cell_type": "markdown",
   "id": "sufficient-darkness",
   "metadata": {
    "heading_collapsed": true,
    "hidden": true
   },
   "source": [
    "#### Numerical Attributes"
   ]
  },
  {
   "cell_type": "code",
   "execution_count": null,
   "id": "stylish-indie",
   "metadata": {
    "ExecuteTime": {
     "end_time": "2021-03-16T19:30:39.542326Z",
     "start_time": "2021-03-16T19:30:37.382985Z"
    },
    "hidden": true,
    "scrolled": false
   },
   "outputs": [],
   "source": [
    "# Central Tendency - Mean, median\n",
    "ct1 = pd.DataFrame( num_attributes.apply( np.mean ) ).T\n",
    "ct2 = pd.DataFrame( num_attributes.apply( np.median ) ).T\n",
    "\n",
    "# Dispersion - std, min, max, range, skew, kurtoisis\n",
    "d1 = pd.DataFrame(num_attributes.apply( np.std )).T\n",
    "d2 = pd.DataFrame(num_attributes.apply( min )).T\n",
    "d3 = pd.DataFrame(num_attributes.apply( max )).T\n",
    "d4 = pd.DataFrame(num_attributes.apply( lambda x: x.max() - x.min() )).T\n",
    "d5 = pd.DataFrame(num_attributes.apply( lambda x: x.skew() )).T\n",
    "d6 = pd.DataFrame(num_attributes.apply( lambda x: x.kurtosis() )).T\n",
    "\n",
    "#concatenate\n",
    "m = pd.concat( [d2, d3, d4, ct1, ct2, d1, d5, d6] ).T.reset_index()\n",
    "\n",
    "\n",
    "m.columns = ['attributes', 'min', 'max', 'range', 'mean', 'median', 'std', 'skew', 'kurtosis']\n",
    "m"
   ]
  },
  {
   "cell_type": "markdown",
   "id": "aerial-swimming",
   "metadata": {
    "heading_collapsed": true,
    "hidden": true
   },
   "source": [
    "#### Categorical Attributes"
   ]
  },
  {
   "cell_type": "code",
   "execution_count": null,
   "id": "electric-front",
   "metadata": {
    "ExecuteTime": {
     "end_time": "2021-03-16T19:30:39.700901Z",
     "start_time": "2021-03-16T19:30:39.543295Z"
    },
    "hidden": true,
    "scrolled": false
   },
   "outputs": [],
   "source": [
    "cate_attributes.apply( lambda x: x.unique().shape[0])"
   ]
  },
  {
   "cell_type": "code",
   "execution_count": null,
   "id": "abroad-flower",
   "metadata": {
    "ExecuteTime": {
     "end_time": "2021-03-16T19:30:40.140773Z",
     "start_time": "2021-03-16T19:30:39.703866Z"
    },
    "hidden": true
   },
   "outputs": [],
   "source": [
    "aux1 = df1[(df1['state_holiday'] != '0') & (df1['sales'] > 0)]\n",
    "\n",
    "plt.subplot (1, 3, 1)\n",
    "sns.boxplot(x='state_holiday', y= 'sales', data=aux1);\n",
    "\n",
    "plt.subplot (1, 3, 2)\n",
    "sns.boxplot(x='store_type', y= 'sales', data=aux1);\n",
    "\n",
    "plt.subplot (1, 3, 3)\n",
    "sns.boxplot(x='assortment', y= 'sales', data=aux1);"
   ]
  },
  {
   "cell_type": "markdown",
   "id": "taken-retirement",
   "metadata": {},
   "source": [
    "## FEATURE ENGINEERING"
   ]
  },
  {
   "cell_type": "code",
   "execution_count": 20,
   "id": "ancient-athletics",
   "metadata": {
    "ExecuteTime": {
     "end_time": "2021-03-18T20:15:29.906894Z",
     "start_time": "2021-03-18T20:15:29.858002Z"
    }
   },
   "outputs": [],
   "source": [
    "df2 = df1.copy()"
   ]
  },
  {
   "cell_type": "markdown",
   "id": "beginning-pharmacy",
   "metadata": {
    "heading_collapsed": true
   },
   "source": [
    "### Hypothesis Mindmap"
   ]
  },
  {
   "cell_type": "code",
   "execution_count": null,
   "id": "adaptive-relationship",
   "metadata": {
    "ExecuteTime": {
     "end_time": "2021-03-16T19:30:40.219021Z",
     "start_time": "2021-03-16T19:30:40.188705Z"
    },
    "hidden": true
   },
   "outputs": [],
   "source": [
    "Image('img/DAILY_STORE_SALES_HYPOTESES.png')"
   ]
  },
  {
   "cell_type": "markdown",
   "id": "coated-hands",
   "metadata": {
    "heading_collapsed": true
   },
   "source": [
    "### Creating Hypothesis"
   ]
  },
  {
   "cell_type": "markdown",
   "id": "superior-mattress",
   "metadata": {
    "heading_collapsed": true,
    "hidden": true
   },
   "source": [
    "#### Store Hypothesis"
   ]
  },
  {
   "cell_type": "markdown",
   "id": "inclusive-tiffany",
   "metadata": {
    "hidden": true
   },
   "source": [
    "**1.** Lojas com número maior de funcionários deveriam vender mais.\n",
    "\n",
    "**2.** Lojas com maior capacidade de estoque deveriam vender mais.\n",
    "\n",
    "**3.** Lojas com maior porte deveriam vender mais.\n",
    "\n",
    "**4.** Lojas com maior sortimentos deveriam vender mais.\n",
    "\n",
    "**5.** Lojas com competidores mais próximos deveriam vender menos.\n",
    "\n",
    "**6.** Lojas com competidores à mais tempo deveriam vendem mais."
   ]
  },
  {
   "cell_type": "markdown",
   "id": "excellent-concert",
   "metadata": {
    "heading_collapsed": true,
    "hidden": true
   },
   "source": [
    "#### Product Hypothesis "
   ]
  },
  {
   "cell_type": "markdown",
   "id": "thermal-darwin",
   "metadata": {
    "ExecuteTime": {
     "end_time": "2021-03-01T00:59:13.716271Z",
     "start_time": "2021-03-01T00:59:13.710287Z"
    },
    "hidden": true
   },
   "source": [
    "**1.** Lojas que investem mais em Marketing deveriam vender mais.\n",
    "\n",
    "**2.** Lojas com maior exposição de produto deveriam vender mais.\n",
    "\n",
    "**3.** Lojas com produtos com preço menor deveriam vender mais.\n",
    "\n",
    "**5.** Lojas com promoções mais agressivas ( descontos maiores ), deveriam vender mais.\n",
    "\n",
    "**6.** Lojas com promoções ativas por mais tempo deveriam vender mais.\n",
    "\n",
    "**7.** Lojas com mais dias de promoção deveriam vender mais.\n",
    "\n",
    "**8.** Lojas com mais promoções consecutivas deveriam vender mais."
   ]
  },
  {
   "cell_type": "markdown",
   "id": "unlike-broadcast",
   "metadata": {
    "heading_collapsed": true,
    "hidden": true
   },
   "source": [
    "#### Time Hypothesis"
   ]
  },
  {
   "cell_type": "markdown",
   "id": "formed-pitch",
   "metadata": {
    "ExecuteTime": {
     "end_time": "2021-03-01T01:06:06.668120Z",
     "start_time": "2021-03-01T01:06:06.663158Z"
    },
    "hidden": true
   },
   "source": [
    "**1.** Lojas abertas durante o feriado de Natal deveriam vender mais.\n",
    "\n",
    "**2.** Lojas deveriam vender mais ao longo dos anos.\n",
    "\n",
    "**3.** Lojas deveriam vender mais no segundo semestre do ano.\n",
    "\n",
    "**4.** Lojas deveriam vender mais depois do dia 10 de cada mês.\n",
    "\n",
    "**5.** Lojas deveriam vender menos aos finais de semana.\n",
    "\n",
    "**6.** Lojas deveriam vender menos durante os feriados escolares."
   ]
  },
  {
   "cell_type": "markdown",
   "id": "welcome-sailing",
   "metadata": {
    "heading_collapsed": true
   },
   "source": [
    "### Final Hypothesis List"
   ]
  },
  {
   "cell_type": "code",
   "execution_count": null,
   "id": "thermal-capital",
   "metadata": {
    "ExecuteTime": {
     "end_time": "2021-03-16T19:30:40.233706Z",
     "start_time": "2021-03-16T19:30:40.220018Z"
    },
    "hidden": true
   },
   "outputs": [],
   "source": [
    "# Priorização baseado nos atributos disponíveis no dataset"
   ]
  },
  {
   "cell_type": "markdown",
   "id": "entire-ozone",
   "metadata": {
    "ExecuteTime": {
     "end_time": "2021-03-02T15:24:47.343762Z",
     "start_time": "2021-03-02T15:24:47.296549Z"
    },
    "hidden": true
   },
   "source": [
    "**1.** Lojas com maior sortimentos deveriam vender mais.\n",
    "\n",
    "**2.** Lojas com competidores mais próximos deveriam vender menos.\n",
    "\n",
    "**3.** Lojas com competidores à mais tempo deveriam vendem mais."
   ]
  },
  {
   "cell_type": "markdown",
   "id": "resistant-agreement",
   "metadata": {
    "hidden": true
   },
   "source": [
    "**4.** Lojas com promoções ativas por mais tempo deveriam vender mais.\n",
    "\n",
    "**5.** Lojas com mais dias de promoção deveriam vender mais.\n",
    "\n",
    "**7.** Lojas com mais promoções consecutivas deveriam vender mais."
   ]
  },
  {
   "cell_type": "markdown",
   "id": "amazing-reunion",
   "metadata": {
    "hidden": true
   },
   "source": [
    "**8.** Lojas abertas durante o feriado de Natal deveriam vender mais.\n",
    "\n",
    "**9.** Lojas deveriam vender mais ao longo dos anos.\n",
    "\n",
    "**10.** Lojas deveriam vender mais no segundo semestre do ano.\n",
    "\n",
    "**11.** Lojas deveriam vender mais depois do dia 10 de cada mês.\n",
    "\n",
    "**12.** Lojas deveriam vender menos aos finais de semana.\n",
    "\n",
    "**13.** Lojas deveriam vender menos durante os feriados escolares.\n"
   ]
  },
  {
   "cell_type": "markdown",
   "id": "extensive-award",
   "metadata": {},
   "source": [
    "### Feature Engineering"
   ]
  },
  {
   "cell_type": "code",
   "execution_count": null,
   "id": "improved-holder",
   "metadata": {
    "ExecuteTime": {
     "end_time": "2021-03-18T14:18:05.669772Z",
     "start_time": "2021-03-18T14:18:05.651793Z"
    }
   },
   "outputs": [],
   "source": [
    "df2.dtypes"
   ]
  },
  {
   "cell_type": "code",
   "execution_count": 21,
   "id": "outside-corrections",
   "metadata": {
    "ExecuteTime": {
     "end_time": "2021-03-18T20:16:25.084319Z",
     "start_time": "2021-03-18T20:15:45.798498Z"
    }
   },
   "outputs": [],
   "source": [
    "# year\n",
    "df2['year'] = df2['date'].dt.year\n",
    "\n",
    "# month\n",
    "df2['month'] = df2['date'].dt.month\n",
    "\n",
    "# day\n",
    "df2['day'] = df2['date'].dt.day\n",
    "\n",
    "# week of year\n",
    "df2['week_of_year'] = df2['date'].dt.isocalendar().week.astype('int64')\n",
    "\n",
    "# year week\n",
    "df2['year_week'] = df2['date'].dt.strftime( '%Y-%W' )\n",
    "\n",
    "# competition since\n",
    "df2['competition_since'] = df2.apply(lambda x: datetime.datetime( year = x['competition_open_since_year'], month = x['competition_open_since_month'], day=1 ), axis = 1)\n",
    "df2['competition_time_month'] = ( ( df2['date'] - df2['competition_since'] )/30 ).apply( lambda x: x.days ).astype( 'int64' )\n",
    "\n",
    "# promo since\n",
    "df2['promo_since'] = df2['promo2_since_year'].astype( str ) + '-' + df2['promo2_since_week'].astype( str )\n",
    "df2['promo_since'] = df2['promo_since'].apply( lambda x: datetime.datetime.strptime( x + '-1', '%Y-%W-%w' ) - datetime.timedelta( days=7 ) )\n",
    "df2['promo_time_week'] = ( ( df2['date'] - df2['promo_since'] )/7 ).apply( lambda x: x.days ).astype( 'int64' )\n",
    "\n",
    "# assortment\n",
    "df2['assortment'] = df2['assortment'].apply( lambda x: 'basic' if x == 'a' else 'extra' if x == 'b' else 'extended' )\n",
    "\n",
    "# state holiday\n",
    "df2['state_holiday'] = df2['state_holiday'].apply( lambda x: 'public_holiday' if x == 'a' else 'easter_holiday' if x == 'b' else 'christmas' if x == 'c' else 'regular_day' )"
   ]
  },
  {
   "cell_type": "code",
   "execution_count": null,
   "id": "super-foster",
   "metadata": {
    "ExecuteTime": {
     "end_time": "2021-03-16T19:31:17.827130Z",
     "start_time": "2021-03-16T19:31:17.812170Z"
    },
    "scrolled": false
   },
   "outputs": [],
   "source": [
    "df2.head().T"
   ]
  },
  {
   "cell_type": "code",
   "execution_count": 22,
   "id": "rolled-apparel",
   "metadata": {
    "ExecuteTime": {
     "end_time": "2021-03-18T20:16:29.418191Z",
     "start_time": "2021-03-18T20:16:29.357357Z"
    }
   },
   "outputs": [
    {
     "data": {
      "text/plain": [
       "array(['regular_day', 'public_holiday', 'easter_holiday', 'christmas'],\n",
       "      dtype=object)"
      ]
     },
     "execution_count": 22,
     "metadata": {},
     "output_type": "execute_result"
    }
   ],
   "source": [
    "df2.state_holiday.unique()"
   ]
  },
  {
   "cell_type": "markdown",
   "id": "detected-cuisine",
   "metadata": {},
   "source": [
    "## VARIABLE FILTERING "
   ]
  },
  {
   "cell_type": "code",
   "execution_count": 23,
   "id": "democratic-admission",
   "metadata": {
    "ExecuteTime": {
     "end_time": "2021-03-18T20:16:47.164012Z",
     "start_time": "2021-03-18T20:16:47.098617Z"
    }
   },
   "outputs": [],
   "source": [
    "df3 = df2.copy()"
   ]
  },
  {
   "cell_type": "markdown",
   "id": "raised-princess",
   "metadata": {},
   "source": [
    "### Line Filtering"
   ]
  },
  {
   "cell_type": "code",
   "execution_count": 24,
   "id": "front-offer",
   "metadata": {
    "ExecuteTime": {
     "end_time": "2021-03-18T20:16:54.044539Z",
     "start_time": "2021-03-18T20:16:53.806297Z"
    }
   },
   "outputs": [],
   "source": [
    "df3 = df3[(df3['open'] != 0) & (df3['sales']> 0)]"
   ]
  },
  {
   "cell_type": "markdown",
   "id": "joined-photograph",
   "metadata": {},
   "source": [
    "### Columns Selection"
   ]
  },
  {
   "cell_type": "code",
   "execution_count": 25,
   "id": "brave-ethics",
   "metadata": {
    "ExecuteTime": {
     "end_time": "2021-03-18T20:17:07.022286Z",
     "start_time": "2021-03-18T20:17:06.936517Z"
    }
   },
   "outputs": [],
   "source": [
    "cols_drop = ['customers', 'open', 'promo_interval', 'month_map']\n",
    "df3 = df3.drop( cols_drop, axis=1 )"
   ]
  },
  {
   "cell_type": "code",
   "execution_count": null,
   "id": "fantastic-steam",
   "metadata": {
    "ExecuteTime": {
     "end_time": "2021-03-16T19:31:18.298442Z",
     "start_time": "2021-03-16T19:31:18.283513Z"
    }
   },
   "outputs": [],
   "source": [
    "df3.head()"
   ]
  },
  {
   "cell_type": "markdown",
   "id": "compliant-puppy",
   "metadata": {},
   "source": [
    "## EXPLORATORY DATA ANALYSIS (EDA)"
   ]
  },
  {
   "cell_type": "code",
   "execution_count": 26,
   "id": "imported-solution",
   "metadata": {
    "ExecuteTime": {
     "end_time": "2021-03-18T20:17:10.724904Z",
     "start_time": "2021-03-18T20:17:10.676287Z"
    }
   },
   "outputs": [],
   "source": [
    "df4 = df3.copy()"
   ]
  },
  {
   "cell_type": "code",
   "execution_count": null,
   "id": "political-entity",
   "metadata": {
    "ExecuteTime": {
     "end_time": "2021-03-16T19:31:18.378229Z",
     "start_time": "2021-03-16T19:31:18.363306Z"
    },
    "scrolled": true
   },
   "outputs": [],
   "source": [
    "df4.head()"
   ]
  },
  {
   "cell_type": "code",
   "execution_count": null,
   "id": "arctic-google",
   "metadata": {},
   "outputs": [],
   "source": []
  },
  {
   "cell_type": "markdown",
   "id": "starting-storm",
   "metadata": {},
   "source": [
    "### Univariate Analysis"
   ]
  },
  {
   "cell_type": "markdown",
   "id": "complicated-italian",
   "metadata": {
    "heading_collapsed": true
   },
   "source": [
    "#### Response Variable"
   ]
  },
  {
   "cell_type": "code",
   "execution_count": null,
   "id": "blessed-capitol",
   "metadata": {
    "ExecuteTime": {
     "end_time": "2021-03-16T19:31:18.648779Z",
     "start_time": "2021-03-16T19:31:18.379227Z"
    },
    "hidden": true
   },
   "outputs": [],
   "source": [
    "fig = plt.figure( figsize = (14, 6), constrained_layout=True)\n",
    "sns.distplot(df4['sales'], kde = False)"
   ]
  },
  {
   "cell_type": "markdown",
   "id": "southern-business",
   "metadata": {
    "heading_collapsed": true
   },
   "source": [
    "#### Numerical Variable"
   ]
  },
  {
   "cell_type": "code",
   "execution_count": null,
   "id": "applicable-render",
   "metadata": {
    "ExecuteTime": {
     "end_time": "2021-03-16T19:31:20.775039Z",
     "start_time": "2021-03-16T19:31:18.649561Z"
    },
    "hidden": true
   },
   "outputs": [],
   "source": [
    "num_attributes.hist(bins = 25);"
   ]
  },
  {
   "cell_type": "markdown",
   "id": "detected-chuck",
   "metadata": {
    "heading_collapsed": true
   },
   "source": [
    "#### Categorical Variable"
   ]
  },
  {
   "cell_type": "code",
   "execution_count": null,
   "id": "harmful-celtic",
   "metadata": {
    "ExecuteTime": {
     "end_time": "2021-03-16T19:31:43.100108Z",
     "start_time": "2021-03-16T19:31:20.775498Z"
    },
    "hidden": true,
    "scrolled": false
   },
   "outputs": [],
   "source": [
    "# state_holiday\n",
    "plt.subplot(3, 2, 1)\n",
    "a = df4[df4['state_holiday'] != 'regular_day']\n",
    "sns.countplot(data = a, x = a['state_holiday'])\n",
    "\n",
    "plt.subplot(3, 2, 2)\n",
    "sns.kdeplot(data = df4, x = df4[df4['state_holiday'] == 'public_holiday']['sales'], shade=True )\n",
    "sns.kdeplot(data = df4, x = df4[df4['state_holiday'] == 'easter_holiday']['sales'], label='easter_holiday', shade=True)\n",
    "sns.kdeplot(data = df4, x = df4[df4['state_holiday'] == 'Christmas']['sales'], label='Christmas', shade=True )\n",
    "\n",
    "# store_type\n",
    "plt.subplot(3, 2, 3)\n",
    "sns.countplot(data = df4, x = df4['store_type'])\n",
    "\n",
    "plt.subplot(3, 2, 4)\n",
    "sns.kdeplot(data = df4, x = df4[df4['store_type'] == 'a']['sales'], shade = True)\n",
    "sns.kdeplot(data = df4, x = df4[df4['store_type'] == 'b']['sales'], shade = True)\n",
    "sns.kdeplot(data = df4, x = df4[df4['store_type'] == 'c']['sales'], shade = True)\n",
    "sns.kdeplot(data = df4, x = df4[df4['store_type'] == 'd']['sales'], shade = True)\n",
    "\n",
    "# assortment\n",
    "plt.subplot(3, 2, 5)\n",
    "sns.countplot(data = df4, x = df4['assortment'])\n",
    "\n",
    "plt.subplot(3, 2, 6)\n",
    "sns.kdeplot(data = df4, x = df4[df4['assortment'] == 'basic']['sales'], shade = True)\n",
    "sns.kdeplot(data = df4, x = df4[df4['assortment'] == 'extended']['sales'], shade = True)\n",
    "sns.kdeplot(data = df4, x = df4[df4['assortment'] == 'extra']['sales'], shade = True)"
   ]
  },
  {
   "cell_type": "markdown",
   "id": "accredited-oklahoma",
   "metadata": {
    "heading_collapsed": true
   },
   "source": [
    "### Bivariate Analysis"
   ]
  },
  {
   "cell_type": "markdown",
   "id": "prime-cycling",
   "metadata": {
    "heading_collapsed": true,
    "hidden": true
   },
   "source": [
    "#### H1. Lojas com maior sortimentos deveriam vender mais.\n",
    "\n",
    "**FALSA** Lojas com MAIOR SORTIMENTO vendem menos!"
   ]
  },
  {
   "cell_type": "code",
   "execution_count": null,
   "id": "super-burlington",
   "metadata": {
    "ExecuteTime": {
     "end_time": "2021-03-16T19:31:43.794339Z",
     "start_time": "2021-03-16T19:31:43.101106Z"
    },
    "hidden": true,
    "scrolled": false
   },
   "outputs": [],
   "source": [
    "aux1 = df4[['assortment', 'sales']].groupby('assortment').sum().reset_index()\n",
    "sns.barplot(x = 'assortment', y = 'sales', data = aux1)\n",
    "\n",
    "aux2 = df4[['year_week','assortment', 'sales']].groupby(['year_week','assortment']).sum().reset_index()\n",
    "aux2.pivot( index = 'year_week', columns = 'assortment', values = 'sales').plot()\n",
    "\n",
    "aux3 = aux2[aux2['assortment'] == 'extra']\n",
    "aux3.pivot( index = 'year_week', columns = 'assortment', values = 'sales').plot( color = 'g' );"
   ]
  },
  {
   "cell_type": "markdown",
   "id": "statutory-bobby",
   "metadata": {
    "ExecuteTime": {
     "end_time": "2021-03-03T21:50:48.312678Z",
     "start_time": "2021-03-03T21:50:48.309686Z"
    },
    "heading_collapsed": true,
    "hidden": true
   },
   "source": [
    "#### H2. Lojas com competidores mais próximos deveriam vender menos.\n",
    "**FALSA** Lojas com COMPETIDORES MAIS PRÓXIMOS vendem MAIS."
   ]
  },
  {
   "cell_type": "code",
   "execution_count": null,
   "id": "divided-bibliography",
   "metadata": {
    "ExecuteTime": {
     "end_time": "2021-03-16T19:31:44.630169Z",
     "start_time": "2021-03-16T19:31:43.795335Z"
    },
    "hidden": true,
    "scrolled": false
   },
   "outputs": [],
   "source": [
    "aux1 = df4[['competition_distance', 'sales']].groupby('competition_distance').sum().reset_index()\n",
    "\n",
    "plt.subplot(3, 1, 1)\n",
    "sns.scatterplot(x= 'competition_distance', y= 'sales', data= aux1);\n",
    "\n",
    "plt.subplot(3, 1, 2)\n",
    "bins = list(np.arange( 0, 20000, 1000))\n",
    "aux1['competition_distance_binned'] = pd.cut(aux1['competition_distance'], bins = bins)\n",
    "aux2 = aux1[['competition_distance_binned', 'sales']].groupby('competition_distance_binned').sum().reset_index()\n",
    "plt.xticks(rotation = 20)\n",
    "sns.barplot( x= 'competition_distance_binned', y= 'sales', data = aux2);\n",
    "\n",
    "plt.subplot(3, 1, 3)\n",
    "sns.heatmap(aux1.corr(method= 'pearson'), annot= True);"
   ]
  },
  {
   "cell_type": "markdown",
   "id": "infrared-marketing",
   "metadata": {
    "heading_collapsed": true,
    "hidden": true
   },
   "source": [
    "#### H3. Lojas com competidores à mais tempo deveriam vendem mais.\n",
    "**FALSE** Lojas com competidores à mais tempo VENDEM MENOS!."
   ]
  },
  {
   "cell_type": "code",
   "execution_count": null,
   "id": "illegal-bleeding",
   "metadata": {
    "ExecuteTime": {
     "end_time": "2021-03-16T19:31:50.982137Z",
     "start_time": "2021-03-16T19:31:44.630914Z"
    },
    "hidden": true,
    "scrolled": false
   },
   "outputs": [],
   "source": [
    "plt.subplot(1, 3, 1)\n",
    "aux1 = df4[['competition_time_month', 'sales']].groupby('competition_time_month').sum().reset_index()\n",
    "aux2 = aux1[(aux1['competition_time_month'] < 120) & (aux1['competition_time_month'] != 0) ]\n",
    "sns.barplot(x= 'competition_time_month', y= 'sales', data= aux2);\n",
    "plt.xticks(rotation = 90);\n",
    "\n",
    "plt.subplot(1, 3, 2)\n",
    "sns.regplot(x= 'competition_time_month', y = 'sales', data = aux2);\n",
    "\n",
    "plt.subplot(1, 3, 3)\n",
    "sns.heatmap( aux1.corr(method = 'pearson'), annot = True )"
   ]
  },
  {
   "cell_type": "markdown",
   "id": "yellow-kazakhstan",
   "metadata": {
    "heading_collapsed": true,
    "hidden": true
   },
   "source": [
    "#### H4. Lojas com promoções ativas por mais tempo deveriam vender mais.\n",
    "**FALSE** Lojas com promoções ativas por mais tempo vendem menos, depois de um certo período de promoção.\n"
   ]
  },
  {
   "cell_type": "code",
   "execution_count": null,
   "id": "historic-inflation",
   "metadata": {
    "ExecuteTime": {
     "end_time": "2021-03-16T19:32:08.839668Z",
     "start_time": "2021-03-16T19:31:50.982886Z"
    },
    "hidden": true
   },
   "outputs": [],
   "source": [
    "aux1 = df4[['promo_time_week', 'sales']].groupby('promo_time_week').sum().reset_index()\n",
    "\n",
    "grid = gridspec.GridSpec(2, 3)\n",
    "\n",
    "plt.subplot( grid[0,0] )\n",
    "aux2 = aux1[aux1['promo_time_week'] > 0] # promo extendida\n",
    "sns.barplot(data = aux2, x= 'promo_time_week', y= 'sales')\n",
    "plt.xticks(rotation= 90);\n",
    "\n",
    "plt.subplot(grid[0,1])\n",
    "sns.regplot(data = aux2, x= 'promo_time_week', y= 'sales')\n",
    "\n",
    "plt.subplot(grid[1,0])\n",
    "aux3 = aux1[aux1['promo_time_week'] < 0] # promo regular\n",
    "sns.barplot(data = aux3, x= 'promo_time_week', y= 'sales')\n",
    "plt.xticks(rotation= 90);\n",
    "\n",
    "plt.subplot(grid[1,1])\n",
    "sns.regplot(data = aux3, x= 'promo_time_week', y= 'sales');\n",
    "\n",
    "plt.subplot(grid[:,2])\n",
    "sns.heatmap( aux1.corr(method = 'pearson'), annot = True);"
   ]
  },
  {
   "cell_type": "markdown",
   "id": "criminal-oxide",
   "metadata": {
    "heading_collapsed": true,
    "hidden": true
   },
   "source": [
    "#### <s> H5. Lojas com mais dias de promoção deveriam vender mais. </s>\n"
   ]
  },
  {
   "cell_type": "code",
   "execution_count": null,
   "id": "different-wrist",
   "metadata": {
    "hidden": true
   },
   "outputs": [],
   "source": []
  },
  {
   "cell_type": "markdown",
   "id": "increasing-allah",
   "metadata": {
    "heading_collapsed": true,
    "hidden": true
   },
   "source": [
    "#### H7. Lojas com mais promoções consecutivas deveriam vender mais.\n",
    "**FALSE** Lojas com mais promoções consecutivas VENDEM MENOS!"
   ]
  },
  {
   "cell_type": "code",
   "execution_count": null,
   "id": "needed-movie",
   "metadata": {
    "ExecuteTime": {
     "end_time": "2021-03-16T19:32:08.917459Z",
     "start_time": "2021-03-16T19:32:08.840673Z"
    },
    "hidden": true
   },
   "outputs": [],
   "source": [
    "df4[['promo', 'promo2', 'sales']].groupby(['promo', 'promo2']).sum().reset_index().sort_values(by='sales', ascending = True)"
   ]
  },
  {
   "cell_type": "code",
   "execution_count": null,
   "id": "destroyed-optics",
   "metadata": {
    "ExecuteTime": {
     "end_time": "2021-03-16T19:32:09.249572Z",
     "start_time": "2021-03-16T19:32:08.918456Z"
    },
    "hidden": true
   },
   "outputs": [],
   "source": [
    "aux1 = df4[( df4['promo'] ==1 ) & (df4['promo2'] == 1)][['year_week', 'sales']].groupby('year_week').sum().reset_index()\n",
    "ax = aux1.plot()\n",
    "\n",
    "aux2 = df4[( df4['promo'] ==1 ) & (df4['promo2'] == 0)][['year_week', 'sales']].groupby('year_week').sum().reset_index()\n",
    "aux2.plot( ax = ax )\n",
    "\n",
    "ax.legend( labels = ['Tradicional & Extendida', 'Extendida']);"
   ]
  },
  {
   "cell_type": "markdown",
   "id": "raised-proxy",
   "metadata": {
    "ExecuteTime": {
     "end_time": "2021-03-05T01:04:05.743322Z",
     "start_time": "2021-03-05T01:04:05.727364Z"
    },
    "heading_collapsed": true,
    "hidden": true
   },
   "source": [
    "#### **H8.** Lojas abertas durante o feriado de Natal deveriam vender mais.\n",
    "**FALSE** Lojas abertas durante o feriado de Natal não vendem mais"
   ]
  },
  {
   "cell_type": "code",
   "execution_count": null,
   "id": "synthetic-enough",
   "metadata": {
    "ExecuteTime": {
     "end_time": "2021-03-16T19:32:09.594915Z",
     "start_time": "2021-03-16T19:32:09.250569Z"
    },
    "hidden": true
   },
   "outputs": [],
   "source": [
    "aux = df4[df4['state_holiday'] != 'regular_day']\n",
    "\n",
    "plt.subplot(1, 2, 1)\n",
    "aux1 = aux[['state_holiday', 'sales']].groupby('state_holiday').sum().reset_index()\n",
    "sns.barplot(data = aux1, x= 'state_holiday', y= 'sales');\n",
    "\n",
    "plt.subplot(1, 2, 2)\n",
    "aux2 = aux[['year', 'state_holiday','sales']].groupby(['year', 'state_holiday']).sum().reset_index()\n",
    "sns.barplot(data = aux2, x = 'year', y= 'sales', hue= 'state_holiday');"
   ]
  },
  {
   "cell_type": "markdown",
   "id": "collective-count",
   "metadata": {
    "heading_collapsed": true,
    "hidden": true
   },
   "source": [
    "#### **H9.** Lojas deveriam vender mais ao longo dos anos.\n",
    "**FALSE** Lojas vendem MENOS ao longo dos anos"
   ]
  },
  {
   "cell_type": "code",
   "execution_count": null,
   "id": "female-amber",
   "metadata": {
    "ExecuteTime": {
     "end_time": "2021-03-16T19:32:10.115306Z",
     "start_time": "2021-03-16T19:32:09.595914Z"
    },
    "hidden": true
   },
   "outputs": [],
   "source": [
    "aux = df4[['year', 'sales']].groupby('year').sum().reset_index()\n",
    "\n",
    "plt.subplot(131)\n",
    "sns.barplot(data = aux, x= 'year', y= 'sales');\n",
    "\n",
    "plt.subplot(132)\n",
    "sns.regplot(data = aux, x= 'year', y= 'sales');\n",
    "plt.xticks(rotation = 90)\n",
    "\n",
    "plt.subplot(133)\n",
    "sns.heatmap(aux.corr(method= 'pearson'), annot = True);"
   ]
  },
  {
   "cell_type": "markdown",
   "id": "miniature-flash",
   "metadata": {
    "heading_collapsed": true,
    "hidden": true
   },
   "source": [
    "#### **H10.** Lojas deveriam vender mais no segundo semestre do ano.\n",
    "**FALSE** Lojas vendem menos no segundo semestre do ano"
   ]
  },
  {
   "cell_type": "code",
   "execution_count": null,
   "id": "public-rover",
   "metadata": {
    "ExecuteTime": {
     "end_time": "2021-03-16T19:32:10.681655Z",
     "start_time": "2021-03-16T19:32:10.116309Z"
    },
    "hidden": true
   },
   "outputs": [],
   "source": [
    "aux = df4[['month', 'sales']].groupby('month').sum().reset_index()\n",
    "\n",
    "plt.subplot(131)\n",
    "sns.barplot(data = aux, x= 'month', y= 'sales');   ###*tentar colocar legenda no gráfico em cima do semestre que vende menos*###\n",
    "\n",
    "plt.subplot(132)\n",
    "sns.regplot(data = aux, x= 'month', y= 'sales');\n",
    "plt.xticks(rotation = 90)\n",
    "\n",
    "plt.subplot(133)\n",
    "sns.heatmap(aux.corr(method= 'pearson'), annot = True);\n",
    "\n"
   ]
  },
  {
   "cell_type": "markdown",
   "id": "prescription-brook",
   "metadata": {
    "heading_collapsed": true,
    "hidden": true
   },
   "source": [
    "#### **H11.** Lojas deveriam vender mais depois do dia 10 de cada mês.\n",
    "**TRUE** Lojas vendem mais depois do dia 10\n"
   ]
  },
  {
   "cell_type": "code",
   "execution_count": null,
   "id": "square-zoning",
   "metadata": {
    "ExecuteTime": {
     "end_time": "2021-03-16T19:32:11.646357Z",
     "start_time": "2021-03-16T19:32:10.682649Z"
    },
    "hidden": true
   },
   "outputs": [],
   "source": [
    "aux = df4[['day', 'sales']].groupby('day').sum().reset_index()\n",
    "\n",
    "fig = plt.figure(figsize = (18,12))\n",
    "plt.subplot(231)\n",
    "sns.barplot(data = aux, x= 'day', y= 'sales');\n",
    "plt.xticks(rotation = 90)\n",
    "\n",
    "plt.subplot(222)\n",
    "sns.regplot(data = aux, x= 'day', y= 'sales');\n",
    "plt.xticks(rotation = 90)\n",
    "\n",
    "plt.subplot(223)\n",
    "sns.heatmap(aux.corr(method= 'pearson'), annot = True);\n",
    "\n",
    "aux['before_after'] = aux['day'].apply(lambda x: 'before_10_days' if x <= 10 else\n",
    "                                                  'after_10_days')\n",
    "\n",
    "aux1 = aux[['before_after', 'sales']].groupby('before_after').sum().reset_index()\n",
    "plt.subplot(224)\n",
    "sns.barplot(data = aux1, x= 'before_after', y= 'sales');\n",
    "\n"
   ]
  },
  {
   "cell_type": "markdown",
   "id": "built-lighter",
   "metadata": {
    "heading_collapsed": true,
    "hidden": true
   },
   "source": [
    "#### **H12.** Lojas deveriam vender menos aos finais de semana.\n",
    "**TRUE** lojas vendem menos aos finais de semana!"
   ]
  },
  {
   "cell_type": "code",
   "execution_count": null,
   "id": "stunning-cartoon",
   "metadata": {
    "ExecuteTime": {
     "end_time": "2021-03-16T19:32:12.169260Z",
     "start_time": "2021-03-16T19:32:11.647326Z"
    },
    "hidden": true
   },
   "outputs": [],
   "source": [
    "aux = df4[['day_of_week', 'sales']].groupby('day_of_week').sum().reset_index()\n",
    "\n",
    "plt.subplot(131)\n",
    "sns.barplot(data = aux, x= 'day_of_week', y= 'sales');\n",
    "\n",
    "plt.subplot(132)\n",
    "sns.regplot(data = aux, x= 'day_of_week', y= 'sales');\n",
    "plt.xticks(rotation = 90)\n",
    "\n",
    "plt.subplot(133)\n",
    "sns.heatmap(aux.corr(method= 'pearson'), annot = True);"
   ]
  },
  {
   "cell_type": "markdown",
   "id": "comprehensive-perspective",
   "metadata": {
    "heading_collapsed": true,
    "hidden": true
   },
   "source": [
    "#### **H13.** Lojas deveriam vender menos durante os feriados escolares\n",
    "**TRUE** lojas vendem menos durante os feriados escolares. Exceto no mês de Agosto vendem mais"
   ]
  },
  {
   "cell_type": "code",
   "execution_count": null,
   "id": "mechanical-setup",
   "metadata": {
    "ExecuteTime": {
     "end_time": "2021-03-16T19:32:12.675786Z",
     "start_time": "2021-03-16T19:32:12.170137Z"
    },
    "hidden": true
   },
   "outputs": [],
   "source": [
    "aux = df4[['school_holiday', 'sales']].groupby('school_holiday').sum().reset_index();\n",
    "\n",
    "fig = plt.figure(figsize = (18,12))\n",
    "plt.subplot(211)\n",
    "sns.barplot(data = aux, x= 'school_holiday', y= 'sales');\n",
    "\n",
    "aux2 = df4[['month','school_holiday', 'sales']].groupby(['month','school_holiday']).sum().reset_index();\n",
    "\n",
    "plt.subplot(212)\n",
    "sns.barplot(data = aux2, x= 'month', y= 'sales', hue= 'school_holiday');\n",
    "plt.xticks(rotation = 45);"
   ]
  },
  {
   "cell_type": "markdown",
   "id": "biological-norway",
   "metadata": {
    "heading_collapsed": true,
    "hidden": true
   },
   "source": [
    "#### Hypothesis summarize"
   ]
  },
  {
   "cell_type": "code",
   "execution_count": null,
   "id": "central-plumbing",
   "metadata": {
    "ExecuteTime": {
     "end_time": "2021-03-16T19:32:12.691845Z",
     "start_time": "2021-03-16T19:32:12.676783Z"
    },
    "hidden": true
   },
   "outputs": [],
   "source": [
    "tab =[['Hipoteses', 'Conclusao', 'Relevancia'],\n",
    "      ['H1', 'Falsa', 'Baixa'],  \n",
    "      ['H2', 'Falsa', 'Media'],  \n",
    "      ['H3', 'Falsa', 'Media'],\n",
    "      ['H4', 'Falsa', 'Baixa'],\n",
    "      ['H5', '-', '-'],\n",
    "      ['H7', 'Falsa', 'Baixa'],\n",
    "      ['H8', 'Falsa', 'Media'],\n",
    "      ['H9', 'Falsa', 'Alta'],\n",
    "      ['H10', 'Falsa', 'Alta'],\n",
    "      ['H11', 'Verdadeira', 'Alta'],\n",
    "      ['H12', 'Verdadeira', 'Alta'],\n",
    "      ['H13', 'Verdadeira', 'Baixa'],\n",
    "     ]  \n",
    "print( tabulate( tab, headers='firstrow' ) )"
   ]
  },
  {
   "cell_type": "markdown",
   "id": "pregnant-contrary",
   "metadata": {
    "heading_collapsed": true
   },
   "source": [
    "### Multivariate Analysis"
   ]
  },
  {
   "cell_type": "markdown",
   "id": "baking-aircraft",
   "metadata": {
    "heading_collapsed": true,
    "hidden": true
   },
   "source": [
    "#### Numerical Attributes"
   ]
  },
  {
   "cell_type": "code",
   "execution_count": null,
   "id": "qualified-operator",
   "metadata": {
    "ExecuteTime": {
     "end_time": "2021-03-16T19:32:14.543792Z",
     "start_time": "2021-03-16T19:32:12.692740Z"
    },
    "hidden": true
   },
   "outputs": [],
   "source": [
    "correlation = (num_attributes.corr( method = 'pearson' ))\n",
    "sns.heatmap( correlation, annot = True );"
   ]
  },
  {
   "cell_type": "markdown",
   "id": "assured-escape",
   "metadata": {
    "heading_collapsed": true,
    "hidden": true
   },
   "source": [
    "#### Categorical Attributes"
   ]
  },
  {
   "cell_type": "code",
   "execution_count": null,
   "id": "threatened-bumper",
   "metadata": {
    "ExecuteTime": {
     "end_time": "2021-03-16T19:32:15.753400Z",
     "start_time": "2021-03-16T19:32:14.544789Z"
    },
    "hidden": true,
    "scrolled": false
   },
   "outputs": [],
   "source": [
    "# Only categorical attributes\n",
    "a = df4.select_dtypes( include = 'object')\n",
    "\n",
    "# Calculate and create cramer_v matrix\n",
    "\n",
    "a1 = cramer_v(a['state_holiday'], a['state_holiday'])\n",
    "a2 = cramer_v(a['state_holiday'], a['store_type'])\n",
    "a3 = cramer_v(a['state_holiday'], a['assortment'])\n",
    "\n",
    "a4 = cramer_v(a['store_type'], a['state_holiday'])\n",
    "a5 = cramer_v(a['store_type'], a['store_type'])\n",
    "a6 = cramer_v(a['store_type'], a['assortment'])\n",
    "\n",
    "a7 = cramer_v(a['assortment'], a['state_holiday'])\n",
    "a8 = cramer_v(a['assortment'], a['store_type'])\n",
    "a9 = cramer_v(a['assortment'], a['assortment'])\n",
    "\n",
    "d = pd.DataFrame( {'state_holiday': [a1, a2, a3],\n",
    "              'store_type': [a4,a5,a6],\n",
    "              'assortment': [a7,a8,a9]})\n",
    "\n",
    "d = d.set_index( d.columns) # Setting index name iqual columns name\n",
    "d"
   ]
  },
  {
   "cell_type": "code",
   "execution_count": null,
   "id": "organizational-objective",
   "metadata": {
    "ExecuteTime": {
     "end_time": "2021-03-16T19:32:15.926097Z",
     "start_time": "2021-03-16T19:32:15.754313Z"
    },
    "hidden": true,
    "scrolled": true
   },
   "outputs": [],
   "source": [
    "sns.heatmap(d, annot = True);"
   ]
  },
  {
   "cell_type": "markdown",
   "id": "ambient-reset",
   "metadata": {},
   "source": [
    "## DATA PREPARATION"
   ]
  },
  {
   "cell_type": "code",
   "execution_count": 66,
   "id": "rocky-driver",
   "metadata": {
    "ExecuteTime": {
     "end_time": "2021-03-18T20:57:34.689274Z",
     "start_time": "2021-03-18T20:57:34.626320Z"
    }
   },
   "outputs": [],
   "source": [
    "df5 = df4.copy()"
   ]
  },
  {
   "cell_type": "code",
   "execution_count": 67,
   "id": "earned-tribune",
   "metadata": {
    "ExecuteTime": {
     "end_time": "2021-03-18T20:57:36.426932Z",
     "start_time": "2021-03-18T20:57:36.365552Z"
    }
   },
   "outputs": [
    {
     "data": {
      "text/plain": [
       "array(['regular_day', 'public_holiday', 'easter_holiday', 'christmas'],\n",
       "      dtype=object)"
      ]
     },
     "execution_count": 67,
     "metadata": {},
     "output_type": "execute_result"
    }
   ],
   "source": [
    "df5.state_holiday.unique()"
   ]
  },
  {
   "cell_type": "markdown",
   "id": "coated-cyprus",
   "metadata": {
    "ExecuteTime": {
     "end_time": "2021-03-06T22:29:36.132679Z",
     "start_time": "2021-03-06T22:29:36.129657Z"
    }
   },
   "source": [
    "### Feature Normalization"
   ]
  },
  {
   "cell_type": "markdown",
   "id": "quick-adobe",
   "metadata": {},
   "source": [
    "**None of the attributes follow a normal distribution**"
   ]
  },
  {
   "cell_type": "markdown",
   "id": "phantom-inspector",
   "metadata": {},
   "source": [
    "### Feature Rescaling"
   ]
  },
  {
   "cell_type": "code",
   "execution_count": 68,
   "id": "incorrect-adaptation",
   "metadata": {
    "ExecuteTime": {
     "end_time": "2021-03-18T20:57:53.958363Z",
     "start_time": "2021-03-18T20:57:53.744668Z"
    }
   },
   "outputs": [],
   "source": [
    "rs = RobustScaler()  #seleção do método de rescaling é devido aos outliers - adicionar explicação\n",
    "mms = MinMaxScaler()\n",
    "\n",
    "# competition distance\n",
    "df5['competition_distance'] = rs.fit_transform( df5[['competition_distance']].values ) \n",
    "pickle.dump(rs, open('parameters/competition_distance_scaler.pkl', 'wb'))\n",
    "\n",
    "# competition time month\n",
    "df5['competition_time_month'] = rs.fit_transform( df5[['competition_time_month']].values )\n",
    "pickle.dump(rs, open('parameters/competition_time_month_scaler.pkl', 'wb'))\n",
    "\n",
    "# promo time week\n",
    "df5['promo_time_week'] = mms.fit_transform( df5[['promo_time_week']].values )\n",
    "pickle.dump(rs, open('parameters/promo_time_week_scaler.pkl', 'wb'))\n",
    "\n",
    "# year\n",
    "df5['year'] = mms.fit_transform( df5[['year']].values )\n",
    "pickle.dump(mms, open('parameters/year_scaler.pkl', 'wb'))"
   ]
  },
  {
   "cell_type": "code",
   "execution_count": null,
   "id": "unlimited-oracle",
   "metadata": {
    "ExecuteTime": {
     "end_time": "2021-03-18T14:44:17.090730Z",
     "start_time": "2021-03-18T14:44:11.499179Z"
    }
   },
   "outputs": [],
   "source": [
    "sns.distplot(df5['competition_distance'])"
   ]
  },
  {
   "cell_type": "markdown",
   "id": "quarterly-watch",
   "metadata": {},
   "source": [
    "### Feature Transformation"
   ]
  },
  {
   "cell_type": "markdown",
   "id": "recent-algorithm",
   "metadata": {
    "ExecuteTime": {
     "end_time": "2021-03-06T23:23:33.191471Z",
     "start_time": "2021-03-06T23:23:33.188481Z"
    }
   },
   "source": [
    "#### Encoding"
   ]
  },
  {
   "cell_type": "code",
   "execution_count": 30,
   "id": "graphic-removal",
   "metadata": {
    "ExecuteTime": {
     "end_time": "2021-03-18T20:18:51.236978Z",
     "start_time": "2021-03-18T20:18:51.184120Z"
    },
    "scrolled": false
   },
   "outputs": [
    {
     "data": {
      "text/html": [
       "<div>\n",
       "<style scoped>\n",
       "    .dataframe tbody tr th:only-of-type {\n",
       "        vertical-align: middle;\n",
       "    }\n",
       "\n",
       "    .dataframe tbody tr th {\n",
       "        vertical-align: top;\n",
       "    }\n",
       "\n",
       "    .dataframe thead th {\n",
       "        text-align: right;\n",
       "    }\n",
       "</style>\n",
       "<table border=\"1\" class=\"dataframe\">\n",
       "  <thead>\n",
       "    <tr style=\"text-align: right;\">\n",
       "      <th></th>\n",
       "      <th>state_holiday</th>\n",
       "      <th>store_type</th>\n",
       "      <th>assortment</th>\n",
       "      <th>year_week</th>\n",
       "    </tr>\n",
       "  </thead>\n",
       "  <tbody>\n",
       "    <tr>\n",
       "      <th>0</th>\n",
       "      <td>regular_day</td>\n",
       "      <td>c</td>\n",
       "      <td>basic</td>\n",
       "      <td>2015-30</td>\n",
       "    </tr>\n",
       "    <tr>\n",
       "      <th>1</th>\n",
       "      <td>regular_day</td>\n",
       "      <td>a</td>\n",
       "      <td>basic</td>\n",
       "      <td>2015-30</td>\n",
       "    </tr>\n",
       "    <tr>\n",
       "      <th>2</th>\n",
       "      <td>regular_day</td>\n",
       "      <td>a</td>\n",
       "      <td>basic</td>\n",
       "      <td>2015-30</td>\n",
       "    </tr>\n",
       "    <tr>\n",
       "      <th>3</th>\n",
       "      <td>regular_day</td>\n",
       "      <td>c</td>\n",
       "      <td>extended</td>\n",
       "      <td>2015-30</td>\n",
       "    </tr>\n",
       "    <tr>\n",
       "      <th>4</th>\n",
       "      <td>regular_day</td>\n",
       "      <td>a</td>\n",
       "      <td>basic</td>\n",
       "      <td>2015-30</td>\n",
       "    </tr>\n",
       "  </tbody>\n",
       "</table>\n",
       "</div>"
      ],
      "text/plain": [
       "  state_holiday store_type assortment year_week\n",
       "0   regular_day          c      basic   2015-30\n",
       "1   regular_day          a      basic   2015-30\n",
       "2   regular_day          a      basic   2015-30\n",
       "3   regular_day          c   extended   2015-30\n",
       "4   regular_day          a      basic   2015-30"
      ]
     },
     "execution_count": 30,
     "metadata": {},
     "output_type": "execute_result"
    }
   ],
   "source": [
    "df5.select_dtypes( include = 'object').head()"
   ]
  },
  {
   "cell_type": "code",
   "execution_count": 69,
   "id": "authentic-bridges",
   "metadata": {
    "ExecuteTime": {
     "end_time": "2021-03-18T20:57:59.027559Z",
     "start_time": "2021-03-18T20:57:58.634543Z"
    },
    "scrolled": true
   },
   "outputs": [],
   "source": [
    "# state_holiday (it's a state, holidays are moments) - One Hot Enconding\n",
    "df5 = pd.get_dummies(df5, prefix = ['state_holiday'], columns = ['state_holiday'], dtype = 'int64' )\n",
    "\n",
    "# store_type - Label Encoder\n",
    "le = LabelEncoder()\n",
    "df5['store_type'] = le.fit_transform( df5['store_type'] )\n",
    "pickle.dump(le, open('parameters/store_type_scaler', 'wb'))\n",
    "\n",
    "# assortment - Ordinal Encoder\n",
    "assortment_dict = {'basic': 1, 'extra': 2, 'extended': 3}\n",
    "df5['assortment'] = df5['assortment'].map( assortment_dict )"
   ]
  },
  {
   "cell_type": "markdown",
   "id": "understood-supervisor",
   "metadata": {},
   "source": [
    "#### Response Variable Transformation"
   ]
  },
  {
   "cell_type": "code",
   "execution_count": 70,
   "id": "formal-sally",
   "metadata": {
    "ExecuteTime": {
     "end_time": "2021-03-18T20:58:07.491061Z",
     "start_time": "2021-03-18T20:58:02.154711Z"
    }
   },
   "outputs": [
    {
     "data": {
      "image/png": "[encoded data removed]",
      "text/plain": [
       "<Figure size 1800x864 with 1 Axes>"
      ]
     },
     "metadata": {},
     "output_type": "display_data"
    }
   ],
   "source": [
    "df5['sales'] = np.log1p( df5['sales'] )\n",
    "sns.distplot(df5['sales']);"
   ]
  },
  {
   "cell_type": "markdown",
   "id": "numerical-white",
   "metadata": {},
   "source": [
    "#### Nature Transformation"
   ]
  },
  {
   "cell_type": "code",
   "execution_count": 72,
   "id": "fossil-blink",
   "metadata": {
    "ExecuteTime": {
     "end_time": "2021-03-18T20:58:57.706209Z",
     "start_time": "2021-03-18T20:58:52.623985Z"
    }
   },
   "outputs": [],
   "source": [
    "# day of week\n",
    "df5['day_of_week_sin'] = df5['day_of_week'].apply( lambda x: np.sin( x * ( 2. * np.pi/7 ) ) )\n",
    "df5['day_of_week_cos'] = df5['day_of_week'].apply( lambda x: np.cos( x * ( 2. * np.pi/7 ) ) )\n",
    "\n",
    "# month\n",
    "df5['month_sin'] = df5['month'].apply( lambda x: np.sin( x * ( 2. * np.pi/12 ) ) )\n",
    "df5['month_cos'] = df5['month'].apply( lambda x: np.cos( x * ( 2. * np.pi/12 ) ) )\n",
    "\n",
    "# day \n",
    "df5['day_sin'] = df5['day'].apply( lambda x: np.sin( x * ( 2. * np.pi/30 ) ) )\n",
    "df5['day_cos'] = df5['day'].apply( lambda x: np.cos( x * ( 2. * np.pi/30 ) ) )\n",
    "\n",
    "# week of year\n",
    "df5['week_of_year_sin'] = df5['week_of_year'].apply( lambda x: np.sin( x * ( 2. * np.pi/52 ) ) )\n",
    "df5['week_of_year_cos'] = df5['week_of_year'].apply( lambda x: np.cos( x * ( 2. * np.pi/52 ) ) )"
   ]
  },
  {
   "cell_type": "code",
   "execution_count": 73,
   "id": "wound-march",
   "metadata": {
    "ExecuteTime": {
     "end_time": "2021-03-18T20:59:47.626671Z",
     "start_time": "2021-03-18T20:59:47.443150Z"
    },
    "scrolled": false
   },
   "outputs": [
    {
     "data": {
      "text/plain": [
       "store                                    int64\n",
       "day_of_week                              int64\n",
       "date                            datetime64[ns]\n",
       "sales                                  float64\n",
       "promo                                    int64\n",
       "school_holiday                           int64\n",
       "store_type                               int64\n",
       "assortment                               int64\n",
       "competition_distance                   float64\n",
       "competition_open_since_month             int64\n",
       "competition_open_since_year              int64\n",
       "promo2                                   int64\n",
       "promo2_since_week                        int64\n",
       "promo2_since_year                        int64\n",
       "is_promo                                 int64\n",
       "year                                   float64\n",
       "month                                    int64\n",
       "day                                      int64\n",
       "week_of_year                             int64\n",
       "year_week                               object\n",
       "competition_since               datetime64[ns]\n",
       "competition_time_month                 float64\n",
       "promo_since                     datetime64[ns]\n",
       "promo_time_week                        float64\n",
       "state_holiday_christmas                  int64\n",
       "state_holiday_easter_holiday             int64\n",
       "state_holiday_public_holiday             int64\n",
       "state_holiday_regular_day                int64\n",
       "day_of_week_sin                        float64\n",
       "day_of_week_cos                        float64\n",
       "month_sin                              float64\n",
       "month_cos                              float64\n",
       "day_sin                                float64\n",
       "day_cos                                float64\n",
       "week_of_year_sin                       float64\n",
       "week_of_year_cos                       float64\n",
       "dtype: object"
      ]
     },
     "execution_count": 73,
     "metadata": {},
     "output_type": "execute_result"
    }
   ],
   "source": [
    "df5 = df5.astype({'store_type': 'int64'})\n",
    "df5.dtypes"
   ]
  },
  {
   "cell_type": "markdown",
   "id": "seeing-filter",
   "metadata": {},
   "source": [
    "## FEATURE SELECTION"
   ]
  },
  {
   "cell_type": "code",
   "execution_count": 74,
   "id": "proved-rwanda",
   "metadata": {
    "ExecuteTime": {
     "end_time": "2021-03-18T20:59:56.377977Z",
     "start_time": "2021-03-18T20:59:56.292181Z"
    }
   },
   "outputs": [],
   "source": [
    "df6 = df5.copy()"
   ]
  },
  {
   "cell_type": "code",
   "execution_count": 75,
   "id": "golden-softball",
   "metadata": {
    "ExecuteTime": {
     "end_time": "2021-03-18T20:59:58.704238Z",
     "start_time": "2021-03-18T20:59:58.602712Z"
    }
   },
   "outputs": [],
   "source": [
    "# deleting features after feature engineering derivation. Deleting original variables.\n",
    "cols_drop = ['week_of_year', 'day', 'month', 'day_of_week', 'promo_since', 'competition_since', 'year_week']\n",
    "df6 = df6.drop(cols_drop, axis = 1)"
   ]
  },
  {
   "cell_type": "markdown",
   "id": "coated-creek",
   "metadata": {},
   "source": [
    "### Split dataframe into training and test dataset"
   ]
  },
  {
   "cell_type": "code",
   "execution_count": 38,
   "id": "heavy-october",
   "metadata": {
    "ExecuteTime": {
     "end_time": "2021-03-18T20:26:28.850465Z",
     "start_time": "2021-03-18T20:26:28.794212Z"
    }
   },
   "outputs": [
    {
     "data": {
      "text/plain": [
       "Timestamp('2015-06-19 00:00:00')"
      ]
     },
     "execution_count": 38,
     "metadata": {},
     "output_type": "execute_result"
    }
   ],
   "source": [
    "# Spliting dataframe into training and test. Test will have the last 6 weeks of sales, starting at 2015-06-19 until the last day of sales\n",
    "\n",
    "df6[['store', 'date']].groupby('store').max().reset_index()['date'][0] - datetime.timedelta( days = 6*7 )"
   ]
  },
  {
   "cell_type": "code",
   "execution_count": 39,
   "id": "several-concert",
   "metadata": {
    "ExecuteTime": {
     "end_time": "2021-03-18T20:26:31.688205Z",
     "start_time": "2021-03-18T20:26:31.594984Z"
    }
   },
   "outputs": [
    {
     "name": "stdout",
     "output_type": "stream",
     "text": [
      "Training Min Date: 2013-01-01 00:00:00\n",
      "Training Max Date: 2015-06-18 00:00:00\n",
      "\n",
      "Test Min Date: 2015-06-19 00:00:00\n",
      "Test Max Date: 2015-07-31 00:00:00\n"
     ]
    }
   ],
   "source": [
    "# training dataset\n",
    "X_train = df6[df6['date'] < '2015-06-19']\n",
    "y_train = X_train['sales']\n",
    "\n",
    "# test dataset\n",
    "X_test = df6[df6['date'] >= '2015-06-19']\n",
    "y_test = X_test['sales']\n",
    "\n",
    "print( 'Training Min Date: {}'.format( X_train['date'].min() ) )\n",
    "print( 'Training Max Date: {}'.format( X_train['date'].max() ) )\n",
    "\n",
    "print( '\\nTest Min Date: {}'.format( X_test['date'].min() ) )\n",
    "print( 'Test Max Date: {}'.format( X_test['date'].max() ) )"
   ]
  },
  {
   "cell_type": "markdown",
   "id": "fifth-thong",
   "metadata": {
    "heading_collapsed": true
   },
   "source": [
    "### Boruta as a Feature Selector"
   ]
  },
  {
   "cell_type": "code",
   "execution_count": null,
   "id": "increasing-environment",
   "metadata": {
    "ExecuteTime": {
     "end_time": "2021-03-16T19:32:16.607526Z",
     "start_time": "2021-03-16T19:29:39.974Z"
    },
    "hidden": true
   },
   "outputs": [],
   "source": [
    "# # training and test dataset for Boruta, because it can't be a dataframe type\n",
    "# X_train_n = X_train.drop( ['date', 'sales'], axis=1 ).values\n",
    "# y_train_n = y_train.values.ravel()\n",
    "\n",
    "# # Define RandomForestRegressor\n",
    "# rf = RandomForestRegressor( n_jobs=-1 )\n",
    "\n",
    "# # Define Boruta\n",
    "# boruta = BorutaPy( rf, n_estimators='auto', verbose=2, random_state=42 ).fit( X_train_n, y_train_n )"
   ]
  },
  {
   "cell_type": "markdown",
   "id": "sound-traffic",
   "metadata": {
    "heading_collapsed": true
   },
   "source": [
    "### Best Features from Boruta"
   ]
  },
  {
   "cell_type": "code",
   "execution_count": null,
   "id": "contained-dining",
   "metadata": {
    "ExecuteTime": {
     "end_time": "2021-03-16T19:32:16.608524Z",
     "start_time": "2021-03-16T19:29:39.978Z"
    },
    "hidden": true
   },
   "outputs": [],
   "source": [
    "X_train.columns"
   ]
  },
  {
   "cell_type": "code",
   "execution_count": null,
   "id": "published-thong",
   "metadata": {
    "ExecuteTime": {
     "end_time": "2021-03-16T19:32:16.608524Z",
     "start_time": "2021-03-16T19:29:39.981Z"
    },
    "hidden": true
   },
   "outputs": [],
   "source": [
    "# cols_selected = boruta.support_.tolist()\n",
    "\n",
    "# X_train_fs = X_train.drop(['date', 'sales'], axis = 1)\n",
    "# cols_selected_boruta = X_train_fs.iloc[ :, cols_selected].columns.tolist()\n",
    "\n",
    "# # Not selected boruta features\n",
    "# cols_not_selected_boruta = np.setdiff1d(X_train_fs.columns, cols_selected_boruta)"
   ]
  },
  {
   "cell_type": "code",
   "execution_count": null,
   "id": "lesbian-class",
   "metadata": {
    "ExecuteTime": {
     "end_time": "2021-03-16T19:32:16.609521Z",
     "start_time": "2021-03-16T19:29:39.985Z"
    },
    "hidden": true
   },
   "outputs": [],
   "source": [
    "# X_filtered = boruta.transform(X_train_n) # call transform() on X to filter it down to selected features"
   ]
  },
  {
   "cell_type": "code",
   "execution_count": null,
   "id": "internal-ethiopia",
   "metadata": {
    "ExecuteTime": {
     "end_time": "2021-03-16T19:32:16.610518Z",
     "start_time": "2021-03-16T19:29:39.988Z"
    },
    "hidden": true
   },
   "outputs": [],
   "source": [
    "# cols_not_selected_boruta"
   ]
  },
  {
   "cell_type": "code",
   "execution_count": null,
   "id": "exterior-portfolio",
   "metadata": {
    "ExecuteTime": {
     "end_time": "2021-03-16T19:32:16.611516Z",
     "start_time": "2021-03-16T19:29:39.992Z"
    },
    "hidden": true
   },
   "outputs": [],
   "source": [
    "# cols_selected_boruta"
   ]
  },
  {
   "cell_type": "markdown",
   "id": "competent-fantasy",
   "metadata": {
    "heading_collapsed": true
   },
   "source": [
    "### Manual Feature Selection"
   ]
  },
  {
   "cell_type": "code",
   "execution_count": 40,
   "id": "hybrid-geology",
   "metadata": {
    "ExecuteTime": {
     "end_time": "2021-03-18T20:26:47.979099Z",
     "start_time": "2021-03-18T20:26:47.975082Z"
    },
    "hidden": true
   },
   "outputs": [],
   "source": [
    "cols_selected_boruta = ['store',\n",
    " 'promo',\n",
    " 'store_type',\n",
    " 'assortment',\n",
    " 'competition_distance',\n",
    " 'competition_open_since_month',\n",
    " 'competition_open_since_year',\n",
    " 'promo2',\n",
    " 'promo2_since_week',\n",
    " 'promo2_since_year',\n",
    " 'competition_time_month',\n",
    " 'promo_time_week',\n",
    " 'day_of_week_sin',\n",
    " 'day_of_week_cos',\n",
    " 'month_cos',\n",
    " 'month_sin',\n",
    " 'day_sin',\n",
    " 'day_cos',\n",
    " 'week_of_year_cos',\n",
    " 'week_of_year_sin']\n",
    "\n",
    "# columns to add\n",
    "feat_to_add = ['date', 'sales']\n",
    "\n",
    "# final features\n",
    "\n",
    "cols_selected_boruta_full = cols_selected_boruta.copy()\n",
    "cols_selected_boruta_full.extend( feat_to_add )"
   ]
  },
  {
   "cell_type": "code",
   "execution_count": null,
   "id": "positive-typing",
   "metadata": {
    "ExecuteTime": {
     "end_time": "2021-03-18T15:27:22.360215Z",
     "start_time": "2021-03-18T15:27:22.355229Z"
    },
    "hidden": true
   },
   "outputs": [],
   "source": [
    "cols_selected_boruta = ['store',\n",
    " 'promo',\n",
    " 'store_type',\n",
    " 'assortment',\n",
    " 'competition_distance',\n",
    " 'competition_open_since_month',\n",
    " 'competition_open_since_year',\n",
    " 'promo2',\n",
    " 'promo2_since_week',\n",
    " 'promo2_since_year',\n",
    " 'competition_time_month',\n",
    " 'promo_time_week',\n",
    " 'day_of_week_sin',\n",
    " 'day_of_week_cos',\n",
    " 'month_cos',\n",
    " 'month_sin',\n",
    " 'day_sin',\n",
    " 'day_cos',\n",
    " 'week_of_year_cos',\n",
    " 'week_of_year_sin']"
   ]
  },
  {
   "cell_type": "markdown",
   "id": "negative-placement",
   "metadata": {
    "heading_collapsed": true
   },
   "source": [
    "## MACHINE LEARNING ALGORITHM MODELS"
   ]
  },
  {
   "cell_type": "code",
   "execution_count": 41,
   "id": "configured-estimate",
   "metadata": {
    "ExecuteTime": {
     "end_time": "2021-03-18T20:28:30.836465Z",
     "start_time": "2021-03-18T20:28:30.741985Z"
    },
    "hidden": true
   },
   "outputs": [],
   "source": [
    "x_train = X_train[ cols_selected_boruta ]\n",
    "x_test = X_test[ cols_selected_boruta ]\n",
    "\n",
    "# Time Series Data Preparation\n",
    "x_training = X_train[ cols_selected_boruta_full ]"
   ]
  },
  {
   "cell_type": "markdown",
   "id": "choice-ready",
   "metadata": {
    "hidden": true
   },
   "source": [
    "### Average Model"
   ]
  },
  {
   "cell_type": "code",
   "execution_count": null,
   "id": "mediterranean-yield",
   "metadata": {
    "ExecuteTime": {
     "end_time": "2021-03-16T19:32:16.614507Z",
     "start_time": "2021-03-16T19:29:40.009Z"
    },
    "hidden": true
   },
   "outputs": [],
   "source": [
    "# modelo de média é o modelo que mais usamos no dia a dia, a simples média, ele sempre vai prever a média. \n",
    "# É útil pois é uma base comparativa para implementação de outros modelosb\n",
    "\n",
    "# analisando o resultado dos erros de cada modelo testado, percebe-se que erros maiores aconteceram nas regressões lineares\n",
    "## ou seja, o conjunto de dados é complexo, não segue uma linearidade. Modelos apresentaram erros maiores que a média!"
   ]
  },
  {
   "cell_type": "code",
   "execution_count": null,
   "id": "empty-international",
   "metadata": {
    "ExecuteTime": {
     "end_time": "2021-03-16T20:02:34.246968Z",
     "start_time": "2021-03-16T20:02:34.193111Z"
    },
    "hidden": true
   },
   "outputs": [],
   "source": [
    "aux1 = x_test.copy()\n",
    "aux1['sales'] = y_test.copy()\n",
    "\n",
    "# Predictions\n",
    "aux2 = aux1[['store', 'sales']].groupby('store').mean().reset_index().rename(columns = {'sales': 'predictions'})\n",
    "aux1 = pd.merge( aux1, aux2, how= 'left', on='store')\n",
    "yhat_baseline = aux1['predictions']\n",
    "\n",
    "# Performance\n",
    "baseline_result = ml_error( 'Average Model', np.expm1( y_test ), np.expm1( yhat_baseline ))\n",
    "baseline_result"
   ]
  },
  {
   "cell_type": "markdown",
   "id": "chicken-saint",
   "metadata": {
    "heading_collapsed": true,
    "hidden": true
   },
   "source": [
    "### Linear Regression Model"
   ]
  },
  {
   "cell_type": "code",
   "execution_count": null,
   "id": "wicked-filename",
   "metadata": {
    "ExecuteTime": {
     "end_time": "2021-03-16T20:02:37.251131Z",
     "start_time": "2021-03-16T20:02:36.753110Z"
    },
    "hidden": true
   },
   "outputs": [],
   "source": [
    "# Model\n",
    "lr = LinearRegression().fit(x_train, y_train)\n",
    "\n",
    "# Prediction \n",
    "yhat_lr = lr.predict( x_test )\n",
    "\n",
    "# Performance\n",
    "lr_result = ml_error( 'Linear Regression', np.expm1(y_test), np.expm1(yhat_lr))\n",
    "lr_result"
   ]
  },
  {
   "cell_type": "markdown",
   "id": "french-house",
   "metadata": {
    "hidden": true
   },
   "source": [
    "#### Linear Regression Model - Cross Validation"
   ]
  },
  {
   "cell_type": "code",
   "execution_count": null,
   "id": "gorgeous-cookbook",
   "metadata": {
    "ExecuteTime": {
     "end_time": "2021-03-16T19:32:16.616503Z",
     "start_time": "2021-03-16T19:29:40.021Z"
    },
    "hidden": true
   },
   "outputs": [],
   "source": [
    "#lr_result_cv = cross_validation( x_training, 5, 'Linear Regression', lr, verbose=False )"
   ]
  },
  {
   "cell_type": "markdown",
   "id": "lyric-heater",
   "metadata": {
    "heading_collapsed": true,
    "hidden": true
   },
   "source": [
    "### Linear Regression Regularized Model - Lasso"
   ]
  },
  {
   "cell_type": "code",
   "execution_count": null,
   "id": "announced-offer",
   "metadata": {
    "ExecuteTime": {
     "end_time": "2021-03-16T20:02:40.474259Z",
     "start_time": "2021-03-16T20:02:39.993113Z"
    },
    "hidden": true
   },
   "outputs": [],
   "source": [
    "# model\n",
    "lrr = Lasso( alpha=0.01 ).fit( x_train, y_train )\n",
    "\n",
    "# prediction\n",
    "yhat_lrr = lrr.predict( x_test )\n",
    "\n",
    "# performance\n",
    "lrr_result = ml_error( 'Linear Regression - Lasso', np.expm1( y_test ), np.expm1( yhat_lrr ) )\n",
    "lrr_result"
   ]
  },
  {
   "cell_type": "markdown",
   "id": "configured-executive",
   "metadata": {
    "hidden": true
   },
   "source": [
    "#### Linear Regression Regularized Model - Lasso"
   ]
  },
  {
   "cell_type": "code",
   "execution_count": null,
   "id": "compound-meter",
   "metadata": {
    "ExecuteTime": {
     "end_time": "2021-03-16T19:32:16.618497Z",
     "start_time": "2021-03-16T19:29:40.030Z"
    },
    "hidden": true
   },
   "outputs": [],
   "source": [
    "#lrr_result_cv = cross_validation( x_training, 5, 'Linear Regression Regularized Model - Lasso', lrr, verbose=False )"
   ]
  },
  {
   "cell_type": "markdown",
   "id": "sized-aside",
   "metadata": {
    "heading_collapsed": true,
    "hidden": true
   },
   "source": [
    "### Random Forest Regressor"
   ]
  },
  {
   "cell_type": "code",
   "execution_count": null,
   "id": "potential-bobby",
   "metadata": {
    "ExecuteTime": {
     "end_time": "2021-03-16T20:05:10.476405Z",
     "start_time": "2021-03-16T20:02:42.893408Z"
    },
    "hidden": true,
    "scrolled": true
   },
   "outputs": [],
   "source": [
    "# model\n",
    "rf = RandomForestRegressor( n_estimators = 100, n_jobs =-1, random_state=7 ).fit( x_train, y_train )\n",
    "\n",
    "# prediction\n",
    "yhat_rf = rf.predict( x_test )\n",
    "\n",
    "# performance\n",
    "rf_result = ml_error( 'Random Forest Regressor', np.expm1( y_test ), np.expm1( yhat_rf ) )\n",
    "rf_result"
   ]
  },
  {
   "cell_type": "markdown",
   "id": "outside-version",
   "metadata": {
    "hidden": true
   },
   "source": [
    "#### Random Forest Regressor - Cross Validation"
   ]
  },
  {
   "cell_type": "code",
   "execution_count": null,
   "id": "drawn-testimony",
   "metadata": {
    "ExecuteTime": {
     "end_time": "2021-03-16T19:32:16.619494Z",
     "start_time": "2021-03-16T19:29:40.039Z"
    },
    "hidden": true
   },
   "outputs": [],
   "source": [
    "#rf_result_cv = cross_validation( x_training, 5, 'Random Forest Regressor', rf, verbose=False )"
   ]
  },
  {
   "cell_type": "markdown",
   "id": "narrative-hacker",
   "metadata": {
    "heading_collapsed": true,
    "hidden": true
   },
   "source": [
    "### XGBoost Regressor"
   ]
  },
  {
   "cell_type": "code",
   "execution_count": 42,
   "id": "rotary-printer",
   "metadata": {
    "ExecuteTime": {
     "end_time": "2021-03-18T20:29:20.929416Z",
     "start_time": "2021-03-18T20:28:39.772626Z"
    },
    "hidden": true
   },
   "outputs": [
    {
     "data": {
      "text/html": [
       "<div>\n",
       "<style scoped>\n",
       "    .dataframe tbody tr th:only-of-type {\n",
       "        vertical-align: middle;\n",
       "    }\n",
       "\n",
       "    .dataframe tbody tr th {\n",
       "        vertical-align: top;\n",
       "    }\n",
       "\n",
       "    .dataframe thead th {\n",
       "        text-align: right;\n",
       "    }\n",
       "</style>\n",
       "<table border=\"1\" class=\"dataframe\">\n",
       "  <thead>\n",
       "    <tr style=\"text-align: right;\">\n",
       "      <th></th>\n",
       "      <th>Model Name</th>\n",
       "      <th>MAE</th>\n",
       "      <th>MAPE</th>\n",
       "      <th>RMSE</th>\n",
       "    </tr>\n",
       "  </thead>\n",
       "  <tbody>\n",
       "    <tr>\n",
       "      <th>0</th>\n",
       "      <td>XGBoost Regressor</td>\n",
       "      <td>6683.408009</td>\n",
       "      <td>0.949433</td>\n",
       "      <td>7330.688281</td>\n",
       "    </tr>\n",
       "  </tbody>\n",
       "</table>\n",
       "</div>"
      ],
      "text/plain": [
       "          Model Name          MAE      MAPE         RMSE\n",
       "0  XGBoost Regressor  6683.408009  0.949433  7330.688281"
      ]
     },
     "execution_count": 42,
     "metadata": {},
     "output_type": "execute_result"
    }
   ],
   "source": [
    "# model\n",
    "model_xgb = xgb.XGBRegressor( objective='reg:squarederror',\n",
    "                              n_estimators = 100,\n",
    "                              eta = 0.01,\n",
    "                              max_depth = 10,\n",
    "                              subsample = 0.7,\n",
    "                              colsample_bytree = 0.9).fit( x_train, y_train )\n",
    "\n",
    "# prediction\n",
    "yhat_xgb = model_xgb.predict( x_test )\n",
    "\n",
    "# performance\n",
    "xgb_result = ml_error( 'XGBoost Regressor', np.expm1( y_test ), np.expm1( yhat_xgb ) )\n",
    "xgb_result"
   ]
  },
  {
   "cell_type": "markdown",
   "id": "commercial-format",
   "metadata": {
    "hidden": true
   },
   "source": [
    "#### XGBoost Regressor - Cross Validation"
   ]
  },
  {
   "cell_type": "code",
   "execution_count": null,
   "id": "moderate-bidding",
   "metadata": {
    "ExecuteTime": {
     "end_time": "2021-03-16T19:32:16.621490Z",
     "start_time": "2021-03-16T19:29:40.048Z"
    },
    "hidden": true
   },
   "outputs": [],
   "source": [
    "#xgb_result_cv = cross_validation( x_training, 5, 'XGBoost Regressor', model_xgb, verbose=False )"
   ]
  },
  {
   "cell_type": "markdown",
   "id": "married-ratio",
   "metadata": {
    "heading_collapsed": true,
    "hidden": true
   },
   "source": [
    "### Compare Model's Performance"
   ]
  },
  {
   "cell_type": "markdown",
   "id": "christian-portal",
   "metadata": {
    "hidden": true
   },
   "source": [
    "#### Single Performance"
   ]
  },
  {
   "cell_type": "code",
   "execution_count": null,
   "id": "robust-shelter",
   "metadata": {
    "ExecuteTime": {
     "end_time": "2021-03-16T20:12:50.430237Z",
     "start_time": "2021-03-16T20:12:50.402339Z"
    },
    "hidden": true,
    "scrolled": true
   },
   "outputs": [],
   "source": [
    "results = pd.concat( [baseline_result, lr_result, lrr_result, rf_result, xgb_result] )\n",
    "results.sort_values('RMSE')"
   ]
  },
  {
   "cell_type": "markdown",
   "id": "centered-apartment",
   "metadata": {
    "hidden": true
   },
   "source": [
    "#### Real Performance - Cross Validation"
   ]
  },
  {
   "cell_type": "code",
   "execution_count": null,
   "id": "graduate-cooler",
   "metadata": {
    "ExecuteTime": {
     "end_time": "2021-03-16T19:32:16.622486Z",
     "start_time": "2021-03-16T19:29:40.057Z"
    },
    "hidden": true
   },
   "outputs": [],
   "source": [
    "#results_cv = pd.concat([lr_result_cv , lrr_result_cv , rf_result_cv, xgb_result_cv])\n",
    "#results_cv"
   ]
  },
  {
   "cell_type": "markdown",
   "id": "hairy-asian",
   "metadata": {
    "heading_collapsed": true
   },
   "source": [
    "## HYPERPARAMETERS FINE TUNING"
   ]
  },
  {
   "cell_type": "markdown",
   "id": "ambient-responsibility",
   "metadata": {
    "heading_collapsed": true,
    "hidden": true
   },
   "source": [
    "### Random Search"
   ]
  },
  {
   "cell_type": "code",
   "execution_count": null,
   "id": "embedded-venue",
   "metadata": {
    "ExecuteTime": {
     "end_time": "2021-03-16T19:32:16.623483Z",
     "start_time": "2021-03-16T19:29:40.062Z"
    },
    "hidden": true
   },
   "outputs": [],
   "source": [
    "# param = {\n",
    "#     'n_estimators': [1500, 1700, 2500, 3000, 3500],\n",
    "#     'eta': [0.01, 0.03],\n",
    "#     'max_depth': [3, 5, 9],\n",
    "#     'subsample': [0.1, 0.5, 0.7],\n",
    "#     'colsample_bytree': [0.3, 0.7, 0.9],\n",
    "#     'min_child_weight': [3, 8, 15]\n",
    "#         }\n",
    "\n",
    "# MAX_EVAL = 5; #quantas iterações temos"
   ]
  },
  {
   "cell_type": "code",
   "execution_count": null,
   "id": "otherwise-operation",
   "metadata": {
    "ExecuteTime": {
     "end_time": "2021-03-16T19:32:16.624481Z",
     "start_time": "2021-03-16T19:29:40.065Z"
    },
    "hidden": true
   },
   "outputs": [],
   "source": [
    "# final_result = pd.DataFrame()\n",
    "\n",
    "# for i in range(MAX_EVAL):\n",
    "#     # choose values for parameters randomly\n",
    "#     hp = { k: random.sample(v, 1)[0] for k, v in param.items() }\n",
    "#     print(hp)\n",
    "\n",
    "#     # model\n",
    "#     model_xgb = xgb.XGBRegressor( objective='reg:squarederror',\n",
    "#                                   n_estimators = hp['n_estimators'],\n",
    "#                                   eta = hp['eta'],\n",
    "#                                   max_depth = hp['max_depth'],\n",
    "#                                   subsample = hp['subsample'],\n",
    "#                                   colsample_bytree = hp['colsample_bytree'],\n",
    "#                                   min_child_weight = hp['min_child_weight'])\n",
    "    \n",
    "#     # performance\n",
    "#     result = cross_validation( x_training, 5, 'XGBoost Regressor', model_xgb, verbose = True)\n",
    "#     final_result = pd.concat([final_result, result])\n",
    "\n",
    "# final_result\n"
   ]
  },
  {
   "cell_type": "markdown",
   "id": "young-brake",
   "metadata": {
    "heading_collapsed": true,
    "hidden": true
   },
   "source": [
    "### Final Model"
   ]
  },
  {
   "cell_type": "code",
   "execution_count": 43,
   "id": "empty-pound",
   "metadata": {
    "ExecuteTime": {
     "end_time": "2021-03-18T20:29:20.945373Z",
     "start_time": "2021-03-18T20:29:20.931411Z"
    },
    "hidden": true
   },
   "outputs": [],
   "source": [
    "param_tuned = {\n",
    "    'n_estimators':1700 ,\n",
    "    'eta': 0.03,\n",
    "    'max_depth': 9,\n",
    "    'subsample': 0.5,\n",
    "    'colsample_bytree': 0.7 ,\n",
    "    'min_child_weight': 15\n",
    "        }"
   ]
  },
  {
   "cell_type": "code",
   "execution_count": 44,
   "id": "searching-combat",
   "metadata": {
    "ExecuteTime": {
     "end_time": "2021-03-18T20:39:18.921081Z",
     "start_time": "2021-03-18T20:29:20.947368Z"
    },
    "hidden": true
   },
   "outputs": [
    {
     "data": {
      "text/html": [
       "<div>\n",
       "<style scoped>\n",
       "    .dataframe tbody tr th:only-of-type {\n",
       "        vertical-align: middle;\n",
       "    }\n",
       "\n",
       "    .dataframe tbody tr th {\n",
       "        vertical-align: top;\n",
       "    }\n",
       "\n",
       "    .dataframe thead th {\n",
       "        text-align: right;\n",
       "    }\n",
       "</style>\n",
       "<table border=\"1\" class=\"dataframe\">\n",
       "  <thead>\n",
       "    <tr style=\"text-align: right;\">\n",
       "      <th></th>\n",
       "      <th>Model Name</th>\n",
       "      <th>MAE</th>\n",
       "      <th>MAPE</th>\n",
       "      <th>RMSE</th>\n",
       "    </tr>\n",
       "  </thead>\n",
       "  <tbody>\n",
       "    <tr>\n",
       "      <th>0</th>\n",
       "      <td>XGBoost Regressor</td>\n",
       "      <td>640.403653</td>\n",
       "      <td>0.093385</td>\n",
       "      <td>936.130891</td>\n",
       "    </tr>\n",
       "  </tbody>\n",
       "</table>\n",
       "</div>"
      ],
      "text/plain": [
       "          Model Name         MAE      MAPE        RMSE\n",
       "0  XGBoost Regressor  640.403653  0.093385  936.130891"
      ]
     },
     "execution_count": 44,
     "metadata": {},
     "output_type": "execute_result"
    }
   ],
   "source": [
    "# model\n",
    "model_xgb_tuned = xgb.XGBRegressor(  objective='reg:squarederror',\n",
    "                                      n_estimators = param_tuned['n_estimators'],\n",
    "                                      eta = param_tuned['eta'],\n",
    "                                      max_depth = param_tuned['max_depth'],\n",
    "                                      subsample = param_tuned['subsample'],\n",
    "                                      colsample_bytree = param_tuned['colsample_bytree'],\n",
    "                                      min_child_weight = param_tuned['min_child_weight']).fit(x_train, y_train)\n",
    "\n",
    "#prediction\n",
    "yhat_xgb_tuned = model_xgb_tuned.predict(x_test)\n",
    "\n",
    "# performance\n",
    "xgb_tuned_result = ml_error( 'XGBoost Regressor', np.expm1(y_test) , np.expm1(yhat_xgb_tuned))\n",
    "xgb_tuned_result"
   ]
  },
  {
   "cell_type": "code",
   "execution_count": 45,
   "id": "close-conference",
   "metadata": {
    "ExecuteTime": {
     "end_time": "2021-03-18T20:41:38.711621Z",
     "start_time": "2021-03-18T20:39:58.107249Z"
    },
    "hidden": true
   },
   "outputs": [
    {
     "ename": "KeyboardInterrupt",
     "evalue": "",
     "output_type": "error",
     "traceback": [
      "\u001b[1;31m---------------------------------------------------------------------------\u001b[0m",
      "\u001b[1;31mKeyboardInterrupt\u001b[0m                         Traceback (most recent call last)",
      "\u001b[1;32m<ipython-input-45-45bb54312ff9>\u001b[0m in \u001b[0;36m<module>\u001b[1;34m\u001b[0m\n\u001b[1;32m----> 1\u001b[1;33m \u001b[0mxgb_tuned_result_cv\u001b[0m \u001b[1;33m=\u001b[0m \u001b[0mcross_validation\u001b[0m\u001b[1;33m(\u001b[0m \u001b[0mx_training\u001b[0m\u001b[1;33m,\u001b[0m \u001b[1;36m5\u001b[0m\u001b[1;33m,\u001b[0m \u001b[1;34m'XGBoost Regressor'\u001b[0m\u001b[1;33m,\u001b[0m \u001b[0mmodel_xgb\u001b[0m\u001b[1;33m,\u001b[0m \u001b[0mverbose\u001b[0m\u001b[1;33m=\u001b[0m\u001b[1;32mFalse\u001b[0m \u001b[1;33m)\u001b[0m\u001b[1;33m\u001b[0m\u001b[1;33m\u001b[0m\u001b[0m\n\u001b[0m",
      "\u001b[1;32m<ipython-input-3-669689477744>\u001b[0m in \u001b[0;36mcross_validation\u001b[1;34m(x_training, kfold, model_name, model, verbose)\u001b[0m\n\u001b[0;32m     69\u001b[0m \u001b[1;33m\u001b[0m\u001b[0m\n\u001b[0;32m     70\u001b[0m         \u001b[1;31m# model\u001b[0m\u001b[1;33m\u001b[0m\u001b[1;33m\u001b[0m\u001b[1;33m\u001b[0m\u001b[0m\n\u001b[1;32m---> 71\u001b[1;33m         \u001b[0mm\u001b[0m \u001b[1;33m=\u001b[0m \u001b[0mmodel\u001b[0m\u001b[1;33m.\u001b[0m\u001b[0mfit\u001b[0m\u001b[1;33m(\u001b[0m \u001b[0mxtraining\u001b[0m\u001b[1;33m,\u001b[0m \u001b[0mytraining\u001b[0m \u001b[1;33m)\u001b[0m\u001b[1;33m\u001b[0m\u001b[1;33m\u001b[0m\u001b[0m\n\u001b[0m\u001b[0;32m     72\u001b[0m \u001b[1;33m\u001b[0m\u001b[0m\n\u001b[0;32m     73\u001b[0m         \u001b[1;31m# prediction\u001b[0m\u001b[1;33m\u001b[0m\u001b[1;33m\u001b[0m\u001b[1;33m\u001b[0m\u001b[0m\n",
      "\u001b[1;32m~\\anaconda3\\envs\\Kaggle-Rossman-Sales-Prediction\\lib\\site-packages\\xgboost\\core.py\u001b[0m in \u001b[0;36minner_f\u001b[1;34m(*args, **kwargs)\u001b[0m\n\u001b[0;32m    420\u001b[0m         \u001b[1;32mfor\u001b[0m \u001b[0mk\u001b[0m\u001b[1;33m,\u001b[0m \u001b[0marg\u001b[0m \u001b[1;32min\u001b[0m \u001b[0mzip\u001b[0m\u001b[1;33m(\u001b[0m\u001b[0msig\u001b[0m\u001b[1;33m.\u001b[0m\u001b[0mparameters\u001b[0m\u001b[1;33m,\u001b[0m \u001b[0margs\u001b[0m\u001b[1;33m)\u001b[0m\u001b[1;33m:\u001b[0m\u001b[1;33m\u001b[0m\u001b[1;33m\u001b[0m\u001b[0m\n\u001b[0;32m    421\u001b[0m             \u001b[0mkwargs\u001b[0m\u001b[1;33m[\u001b[0m\u001b[0mk\u001b[0m\u001b[1;33m]\u001b[0m \u001b[1;33m=\u001b[0m \u001b[0marg\u001b[0m\u001b[1;33m\u001b[0m\u001b[1;33m\u001b[0m\u001b[0m\n\u001b[1;32m--> 422\u001b[1;33m         \u001b[1;32mreturn\u001b[0m \u001b[0mf\u001b[0m\u001b[1;33m(\u001b[0m\u001b[1;33m**\u001b[0m\u001b[0mkwargs\u001b[0m\u001b[1;33m)\u001b[0m\u001b[1;33m\u001b[0m\u001b[1;33m\u001b[0m\u001b[0m\n\u001b[0m\u001b[0;32m    423\u001b[0m \u001b[1;33m\u001b[0m\u001b[0m\n\u001b[0;32m    424\u001b[0m     \u001b[1;32mreturn\u001b[0m \u001b[0minner_f\u001b[0m\u001b[1;33m\u001b[0m\u001b[1;33m\u001b[0m\u001b[0m\n",
      "\u001b[1;32m~\\anaconda3\\envs\\Kaggle-Rossman-Sales-Prediction\\lib\\site-packages\\xgboost\\sklearn.py\u001b[0m in \u001b[0;36mfit\u001b[1;34m(self, X, y, sample_weight, base_margin, eval_set, eval_metric, early_stopping_rounds, verbose, xgb_model, sample_weight_eval_set, feature_weights, callbacks)\u001b[0m\n\u001b[0;32m    595\u001b[0m                 \u001b[0mparams\u001b[0m\u001b[1;33m.\u001b[0m\u001b[0mupdate\u001b[0m\u001b[1;33m(\u001b[0m\u001b[1;33m{\u001b[0m\u001b[1;34m'eval_metric'\u001b[0m\u001b[1;33m:\u001b[0m \u001b[0meval_metric\u001b[0m\u001b[1;33m}\u001b[0m\u001b[1;33m)\u001b[0m\u001b[1;33m\u001b[0m\u001b[1;33m\u001b[0m\u001b[0m\n\u001b[0;32m    596\u001b[0m \u001b[1;33m\u001b[0m\u001b[0m\n\u001b[1;32m--> 597\u001b[1;33m         self._Booster = train(params, train_dmatrix,\n\u001b[0m\u001b[0;32m    598\u001b[0m                               \u001b[0mself\u001b[0m\u001b[1;33m.\u001b[0m\u001b[0mget_num_boosting_rounds\u001b[0m\u001b[1;33m(\u001b[0m\u001b[1;33m)\u001b[0m\u001b[1;33m,\u001b[0m \u001b[0mevals\u001b[0m\u001b[1;33m=\u001b[0m\u001b[0mevals\u001b[0m\u001b[1;33m,\u001b[0m\u001b[1;33m\u001b[0m\u001b[1;33m\u001b[0m\u001b[0m\n\u001b[0;32m    599\u001b[0m                               \u001b[0mearly_stopping_rounds\u001b[0m\u001b[1;33m=\u001b[0m\u001b[0mearly_stopping_rounds\u001b[0m\u001b[1;33m,\u001b[0m\u001b[1;33m\u001b[0m\u001b[1;33m\u001b[0m\u001b[0m\n",
      "\u001b[1;32m~\\anaconda3\\envs\\Kaggle-Rossman-Sales-Prediction\\lib\\site-packages\\xgboost\\training.py\u001b[0m in \u001b[0;36mtrain\u001b[1;34m(params, dtrain, num_boost_round, evals, obj, feval, maximize, early_stopping_rounds, evals_result, verbose_eval, xgb_model, callbacks)\u001b[0m\n\u001b[0;32m    225\u001b[0m     \u001b[0mBooster\u001b[0m \u001b[1;33m:\u001b[0m \u001b[0ma\u001b[0m \u001b[0mtrained\u001b[0m \u001b[0mbooster\u001b[0m \u001b[0mmodel\u001b[0m\u001b[1;33m\u001b[0m\u001b[1;33m\u001b[0m\u001b[0m\n\u001b[0;32m    226\u001b[0m     \"\"\"\n\u001b[1;32m--> 227\u001b[1;33m     bst = _train_internal(params, dtrain,\n\u001b[0m\u001b[0;32m    228\u001b[0m                           \u001b[0mnum_boost_round\u001b[0m\u001b[1;33m=\u001b[0m\u001b[0mnum_boost_round\u001b[0m\u001b[1;33m,\u001b[0m\u001b[1;33m\u001b[0m\u001b[1;33m\u001b[0m\u001b[0m\n\u001b[0;32m    229\u001b[0m                           \u001b[0mevals\u001b[0m\u001b[1;33m=\u001b[0m\u001b[0mevals\u001b[0m\u001b[1;33m,\u001b[0m\u001b[1;33m\u001b[0m\u001b[1;33m\u001b[0m\u001b[0m\n",
      "\u001b[1;32m~\\anaconda3\\envs\\Kaggle-Rossman-Sales-Prediction\\lib\\site-packages\\xgboost\\training.py\u001b[0m in \u001b[0;36m_train_internal\u001b[1;34m(params, dtrain, num_boost_round, evals, obj, feval, xgb_model, callbacks, evals_result, maximize, verbose_eval, early_stopping_rounds)\u001b[0m\n\u001b[0;32m    100\u001b[0m         \u001b[1;31m# Skip the first update if it is a recovery step.\u001b[0m\u001b[1;33m\u001b[0m\u001b[1;33m\u001b[0m\u001b[1;33m\u001b[0m\u001b[0m\n\u001b[0;32m    101\u001b[0m         \u001b[1;32mif\u001b[0m \u001b[0mversion\u001b[0m \u001b[1;33m%\u001b[0m \u001b[1;36m2\u001b[0m \u001b[1;33m==\u001b[0m \u001b[1;36m0\u001b[0m\u001b[1;33m:\u001b[0m\u001b[1;33m\u001b[0m\u001b[1;33m\u001b[0m\u001b[0m\n\u001b[1;32m--> 102\u001b[1;33m             \u001b[0mbst\u001b[0m\u001b[1;33m.\u001b[0m\u001b[0mupdate\u001b[0m\u001b[1;33m(\u001b[0m\u001b[0mdtrain\u001b[0m\u001b[1;33m,\u001b[0m \u001b[0mi\u001b[0m\u001b[1;33m,\u001b[0m \u001b[0mobj\u001b[0m\u001b[1;33m)\u001b[0m\u001b[1;33m\u001b[0m\u001b[1;33m\u001b[0m\u001b[0m\n\u001b[0m\u001b[0;32m    103\u001b[0m             \u001b[0mbst\u001b[0m\u001b[1;33m.\u001b[0m\u001b[0msave_rabit_checkpoint\u001b[0m\u001b[1;33m(\u001b[0m\u001b[1;33m)\u001b[0m\u001b[1;33m\u001b[0m\u001b[1;33m\u001b[0m\u001b[0m\n\u001b[0;32m    104\u001b[0m             \u001b[0mversion\u001b[0m \u001b[1;33m+=\u001b[0m \u001b[1;36m1\u001b[0m\u001b[1;33m\u001b[0m\u001b[1;33m\u001b[0m\u001b[0m\n",
      "\u001b[1;32m~\\anaconda3\\envs\\Kaggle-Rossman-Sales-Prediction\\lib\\site-packages\\xgboost\\core.py\u001b[0m in \u001b[0;36mupdate\u001b[1;34m(self, dtrain, iteration, fobj)\u001b[0m\n\u001b[0;32m   1278\u001b[0m \u001b[1;33m\u001b[0m\u001b[0m\n\u001b[0;32m   1279\u001b[0m         \u001b[1;32mif\u001b[0m \u001b[0mfobj\u001b[0m \u001b[1;32mis\u001b[0m \u001b[1;32mNone\u001b[0m\u001b[1;33m:\u001b[0m\u001b[1;33m\u001b[0m\u001b[1;33m\u001b[0m\u001b[0m\n\u001b[1;32m-> 1280\u001b[1;33m             _check_call(_LIB.XGBoosterUpdateOneIter(self.handle,\n\u001b[0m\u001b[0;32m   1281\u001b[0m                                                     \u001b[0mctypes\u001b[0m\u001b[1;33m.\u001b[0m\u001b[0mc_int\u001b[0m\u001b[1;33m(\u001b[0m\u001b[0miteration\u001b[0m\u001b[1;33m)\u001b[0m\u001b[1;33m,\u001b[0m\u001b[1;33m\u001b[0m\u001b[1;33m\u001b[0m\u001b[0m\n\u001b[0;32m   1282\u001b[0m                                                     dtrain.handle))\n",
      "\u001b[1;31mKeyboardInterrupt\u001b[0m: "
     ]
    }
   ],
   "source": [
    "xgb_tuned_result_cv = cross_validation( x_training, 5, 'XGBoost Regressor', model_xgb, verbose=False )"
   ]
  },
  {
   "cell_type": "code",
   "execution_count": 46,
   "id": "native-advocacy",
   "metadata": {
    "ExecuteTime": {
     "end_time": "2021-03-18T20:41:49.480120Z",
     "start_time": "2021-03-18T20:41:49.465160Z"
    },
    "hidden": true
   },
   "outputs": [
    {
     "data": {
      "text/plain": [
       "0.0003802979041946542"
      ]
     },
     "execution_count": 46,
     "metadata": {},
     "output_type": "execute_result"
    }
   ],
   "source": [
    "mpe = mean_percentage_error(np.expm1(y_test), np.expm1(yhat_xgb_tuned))\n",
    "mpe"
   ]
  },
  {
   "cell_type": "markdown",
   "id": "respective-sheriff",
   "metadata": {
    "heading_collapsed": true
   },
   "source": [
    "## ERROR INTERPRETATION "
   ]
  },
  {
   "cell_type": "code",
   "execution_count": 47,
   "id": "advance-green",
   "metadata": {
    "ExecuteTime": {
     "end_time": "2021-03-18T20:41:58.216064Z",
     "start_time": "2021-03-18T20:41:58.206092Z"
    },
    "hidden": true
   },
   "outputs": [],
   "source": [
    "df9 = X_test[cols_selected_boruta_full]\n",
    "\n",
    "# rescale\n",
    "df9['sales'] = np.expm1(df9['sales'])\n",
    "df9['predictions'] = np.expm1(yhat_xgb_tuned)"
   ]
  },
  {
   "cell_type": "markdown",
   "id": "printable-colors",
   "metadata": {
    "heading_collapsed": true,
    "hidden": true
   },
   "source": [
    "### Business Performance"
   ]
  },
  {
   "cell_type": "code",
   "execution_count": 48,
   "id": "otherwise-peeing",
   "metadata": {
    "ExecuteTime": {
     "end_time": "2021-03-18T20:42:00.548968Z",
     "start_time": "2021-03-18T20:41:59.844881Z"
    },
    "hidden": true
   },
   "outputs": [],
   "source": [
    "# sum of prediction\n",
    "df91 = df9[['store', 'predictions']].groupby('store').sum().reset_index()\n",
    "\n",
    "# MAE and MAPE\n",
    "df9_aux1 = df9[['store', 'sales', 'predictions']].groupby('store').apply(lambda x: mean_absolute_error(x['sales'], x['predictions']) ).reset_index().rename(columns = {0: 'MAE'})\n",
    "\n",
    "df9_aux2 = df9[['store', 'sales', 'predictions']].groupby('store').apply(lambda x: mean_absolute_percentage_error(x['sales'], x['predictions']) ).reset_index().rename(columns = {0: 'MAPE'})\n",
    "\n",
    "# merge\n",
    "df9_aux3 = pd.merge(df9_aux1, df9_aux2, how = 'inner', on = 'store')\n",
    "df92 = pd.merge(df91, df9_aux3, how = 'inner', on = 'store')\n",
    "\n",
    "# Scenerios\n",
    "\n",
    "df92['worst_scenario'] = df92['predictions'] - df92['MAE']\n",
    "df92['best_scenario'] = df92['predictions'] + df92['MAE']\n",
    "\n",
    "df92 = df92[['store', 'predictions', 'worst_scenario', 'best_scenario', 'MAE', 'MAPE']]"
   ]
  },
  {
   "cell_type": "code",
   "execution_count": 49,
   "id": "thermal-invasion",
   "metadata": {
    "ExecuteTime": {
     "end_time": "2021-03-18T20:42:03.168548Z",
     "start_time": "2021-03-18T20:42:03.154585Z"
    },
    "hidden": true
   },
   "outputs": [
    {
     "data": {
      "text/html": [
       "<div>\n",
       "<style scoped>\n",
       "    .dataframe tbody tr th:only-of-type {\n",
       "        vertical-align: middle;\n",
       "    }\n",
       "\n",
       "    .dataframe tbody tr th {\n",
       "        vertical-align: top;\n",
       "    }\n",
       "\n",
       "    .dataframe thead th {\n",
       "        text-align: right;\n",
       "    }\n",
       "</style>\n",
       "<table border=\"1\" class=\"dataframe\">\n",
       "  <thead>\n",
       "    <tr style=\"text-align: right;\">\n",
       "      <th></th>\n",
       "      <th>store</th>\n",
       "      <th>predictions</th>\n",
       "      <th>worst_scenario</th>\n",
       "      <th>best_scenario</th>\n",
       "      <th>MAE</th>\n",
       "      <th>MAPE</th>\n",
       "    </tr>\n",
       "  </thead>\n",
       "  <tbody>\n",
       "    <tr>\n",
       "      <th>472</th>\n",
       "      <td>473</td>\n",
       "      <td>125713.585938</td>\n",
       "      <td>125466.887774</td>\n",
       "      <td>125960.284101</td>\n",
       "      <td>246.698163</td>\n",
       "      <td>0.082900</td>\n",
       "    </tr>\n",
       "    <tr>\n",
       "      <th>888</th>\n",
       "      <td>889</td>\n",
       "      <td>152603.578125</td>\n",
       "      <td>152352.498727</td>\n",
       "      <td>152854.657523</td>\n",
       "      <td>251.079398</td>\n",
       "      <td>0.064172</td>\n",
       "    </tr>\n",
       "    <tr>\n",
       "      <th>793</th>\n",
       "      <td>794</td>\n",
       "      <td>119579.531250</td>\n",
       "      <td>119316.193716</td>\n",
       "      <td>119842.868784</td>\n",
       "      <td>263.337534</td>\n",
       "      <td>0.078700</td>\n",
       "    </tr>\n",
       "    <tr>\n",
       "      <th>306</th>\n",
       "      <td>307</td>\n",
       "      <td>99618.687500</td>\n",
       "      <td>99346.770620</td>\n",
       "      <td>99890.604380</td>\n",
       "      <td>271.916880</td>\n",
       "      <td>0.112116</td>\n",
       "    </tr>\n",
       "    <tr>\n",
       "      <th>164</th>\n",
       "      <td>165</td>\n",
       "      <td>145327.078125</td>\n",
       "      <td>145053.122044</td>\n",
       "      <td>145601.034206</td>\n",
       "      <td>273.956081</td>\n",
       "      <td>0.069691</td>\n",
       "    </tr>\n",
       "  </tbody>\n",
       "</table>\n",
       "</div>"
      ],
      "text/plain": [
       "     store    predictions  worst_scenario  best_scenario         MAE      MAPE\n",
       "472    473  125713.585938   125466.887774  125960.284101  246.698163  0.082900\n",
       "888    889  152603.578125   152352.498727  152854.657523  251.079398  0.064172\n",
       "793    794  119579.531250   119316.193716  119842.868784  263.337534  0.078700\n",
       "306    307   99618.687500    99346.770620   99890.604380  271.916880  0.112116\n",
       "164    165  145327.078125   145053.122044  145601.034206  273.956081  0.069691"
      ]
     },
     "execution_count": 49,
     "metadata": {},
     "output_type": "execute_result"
    }
   ],
   "source": [
    "# worst and best scenarios\n",
    "df92.sort_values('MAE', ascending = True).head()"
   ]
  },
  {
   "cell_type": "code",
   "execution_count": 50,
   "id": "pacific-orchestra",
   "metadata": {
    "ExecuteTime": {
     "end_time": "2021-03-18T20:42:05.410989Z",
     "start_time": "2021-03-18T20:42:05.214199Z"
    },
    "hidden": true
   },
   "outputs": [
    {
     "data": {
      "image/png": "[encoded data removed]",
      "text/plain": [
       "<Figure size 1800x864 with 1 Axes>"
      ]
     },
     "metadata": {},
     "output_type": "display_data"
    }
   ],
   "source": [
    "# scatterplot\n",
    "sns.scatterplot(x = 'store', y = 'MAPE', data = df92 );"
   ]
  },
  {
   "cell_type": "markdown",
   "id": "powered-defense",
   "metadata": {
    "heading_collapsed": true,
    "hidden": true
   },
   "source": [
    "### Total Performance"
   ]
  },
  {
   "cell_type": "code",
   "execution_count": 51,
   "id": "consistent-aurora",
   "metadata": {
    "ExecuteTime": {
     "end_time": "2021-03-18T20:42:07.566740Z",
     "start_time": "2021-03-18T20:42:07.554730Z"
    },
    "hidden": true
   },
   "outputs": [
    {
     "data": {
      "text/html": [
       "<div>\n",
       "<style scoped>\n",
       "    .dataframe tbody tr th:only-of-type {\n",
       "        vertical-align: middle;\n",
       "    }\n",
       "\n",
       "    .dataframe tbody tr th {\n",
       "        vertical-align: top;\n",
       "    }\n",
       "\n",
       "    .dataframe thead th {\n",
       "        text-align: right;\n",
       "    }\n",
       "</style>\n",
       "<table border=\"1\" class=\"dataframe\">\n",
       "  <thead>\n",
       "    <tr style=\"text-align: right;\">\n",
       "      <th></th>\n",
       "      <th>Scenario</th>\n",
       "      <th>Values</th>\n",
       "    </tr>\n",
       "  </thead>\n",
       "  <tbody>\n",
       "    <tr>\n",
       "      <th>0</th>\n",
       "      <td>predictions</td>\n",
       "      <td>R$ 284,356,928.00</td>\n",
       "    </tr>\n",
       "    <tr>\n",
       "      <th>1</th>\n",
       "      <td>worst_scenario</td>\n",
       "      <td>R$ 283,638,797.34</td>\n",
       "    </tr>\n",
       "    <tr>\n",
       "      <th>2</th>\n",
       "      <td>best_scenario</td>\n",
       "      <td>R$ 285,075,045.66</td>\n",
       "    </tr>\n",
       "  </tbody>\n",
       "</table>\n",
       "</div>"
      ],
      "text/plain": [
       "         Scenario             Values\n",
       "0     predictions  R$ 284,356,928.00\n",
       "1  worst_scenario  R$ 283,638,797.34\n",
       "2   best_scenario  R$ 285,075,045.66"
      ]
     },
     "execution_count": 51,
     "metadata": {},
     "output_type": "execute_result"
    }
   ],
   "source": [
    "df93 = df92[['predictions', 'worst_scenario', 'best_scenario']].apply( lambda x: np.sum( x ), axis=0 ).reset_index().rename( columns={'index': 'Scenario', 0:'Values'} )\n",
    "df93['Values'] = df93['Values'].map( 'R$ {:,.2f}'.format )\n",
    "df93"
   ]
  },
  {
   "cell_type": "markdown",
   "id": "classified-ceremony",
   "metadata": {
    "heading_collapsed": true,
    "hidden": true
   },
   "source": [
    "### Machine Learning Performance "
   ]
  },
  {
   "cell_type": "code",
   "execution_count": 52,
   "id": "monetary-conjunction",
   "metadata": {
    "ExecuteTime": {
     "end_time": "2021-03-18T20:42:10.490923Z",
     "start_time": "2021-03-18T20:42:10.484938Z"
    },
    "hidden": true
   },
   "outputs": [],
   "source": [
    "df9['error'] = df9['sales'] - df9['predictions']\n",
    "df9['error_rate'] = df9['predictions'] / df9['sales']"
   ]
  },
  {
   "cell_type": "code",
   "execution_count": 53,
   "id": "recovered-grove",
   "metadata": {
    "ExecuteTime": {
     "end_time": "2021-03-18T20:42:18.786123Z",
     "start_time": "2021-03-18T20:42:11.904995Z"
    },
    "hidden": true
   },
   "outputs": [
    {
     "data": {
      "text/plain": [
       "<AxesSubplot:xlabel='predictions', ylabel='error'>"
      ]
     },
     "execution_count": 53,
     "metadata": {},
     "output_type": "execute_result"
    },
    {
     "data": {
      "image/png": "[encoded data removed]",
      "text/plain": [
       "<Figure size 1800x864 with 4 Axes>"
      ]
     },
     "metadata": {},
     "output_type": "display_data"
    }
   ],
   "source": [
    "plt.subplot( 2, 2, 1 )\n",
    "sns.lineplot( x='date', y='sales', data=df9, label='SALES' )\n",
    "sns.lineplot( x='date', y='predictions', data=df9, label='PREDICTIONS' )\n",
    "\n",
    "plt.subplot( 2, 2, 2 )\n",
    "sns.lineplot( x='date', y='error_rate', data=df9 )\n",
    "plt.axhline( 1, linestyle='--', color = 'red')\n",
    "\n",
    "plt.subplot( 2, 2, 3 )\n",
    "sns.distplot( df9['error'] )\n",
    "\n",
    "plt.subplot( 2, 2, 4 )\n",
    "sns.scatterplot( df9['predictions'], df9['error'] )"
   ]
  },
  {
   "cell_type": "markdown",
   "id": "responsible-mobile",
   "metadata": {},
   "source": [
    "## MODEL DEPLOYMENT"
   ]
  },
  {
   "cell_type": "code",
   "execution_count": null,
   "id": "utility-rocket",
   "metadata": {
    "ExecuteTime": {
     "end_time": "2021-03-17T14:55:17.686451Z",
     "start_time": "2021-03-17T14:55:14.977563Z"
    }
   },
   "outputs": [],
   "source": [
    "# Save Trained Model\n",
    "pickle.dump(model_xgb_tuned, open('model/model_rossmann.pkl', 'wb'))"
   ]
  },
  {
   "cell_type": "markdown",
   "id": "exposed-clause",
   "metadata": {},
   "source": [
    "### Rossmann Class"
   ]
  },
  {
   "cell_type": "code",
   "execution_count": null,
   "id": "overall-costa",
   "metadata": {
    "ExecuteTime": {
     "end_time": "2021-03-17T14:39:11.727847Z",
     "start_time": "2021-03-17T14:39:11.695904Z"
    }
   },
   "outputs": [],
   "source": [
    "import pickle\n",
    "import pandas as pd\n",
    "import numpy as np\n",
    "import math\n",
    "import datetime\n",
    "import inflection\n",
    "\n",
    "class Rossmann(object): # a classe rossman recebe um objeto. Iremos colocar todas limpezas, transformações, encondings\n",
    "    def __init__(self): \n",
    "        self.home_path                     = 'C:/Users/marxv/Documents/DataScience/Data-Science-Projects/Kaggle-Rossman-Sales-Prediction/'\n",
    "        self.competition_distante_scaler   = pickle.load(open(self.home_path + 'parameters/competition_distance_scaler.pkl', 'rb'))\n",
    "        self.competition_time_month_scaler = pickle.load(open(self.home_path + 'parameters/competition_time_month_scaler.pkl', 'rb'))\n",
    "        self.promo_time_week_scaler        = pickle.load(open(self.home_path + 'parameters/promo_time_week_scaler.pkl', 'rb'))\n",
    "        self.year_scaler                   = pickle.load(open(self.home_path + 'parameters/year_scaler.pkl', 'rb'))    \n",
    "        self.store_type_scaler             = pickle.load(open(self.home_path + 'parameters/store_type_scaler', 'rb'))\n",
    "        \n",
    "    def data_cleaning(self, df1):\n",
    "\n",
    "        ### Rename Columns\n",
    "        cols_old = ['Store', 'DayOfWeek', 'Date', 'Open', 'Promo', 'StateHoliday', 'SchoolHoliday', \n",
    "                    'StoreType', 'Assortment', 'CompetitionDistance', 'CompetitionOpenSinceMonth',\n",
    "                    'CompetitionOpenSinceYear', 'Promo2', 'Promo2SinceWeek', \n",
    "                    'Promo2SinceYear', 'PromoInterval']\n",
    "\n",
    "        snakecase = lambda x: inflection.underscore(x)\n",
    "\n",
    "        cols_new = list( map( snakecase, cols_old ) )\n",
    "\n",
    "        #Rename Columns\n",
    "        df1.columns = cols_new\n",
    "\n",
    "        #Change datatype of column data to datetime\n",
    "        df1['date'] = pd.to_datetime( df1[ 'date' ] )\n",
    "        \n",
    "        # Fillout NA values\n",
    "        # competition_distance         \n",
    "        df1['competition_distance'] = df1['competition_distance'].apply(lambda x: 200000.0 if math.isnan( x ) else x )\n",
    "\n",
    "        # competition_distance\n",
    "        df1['competition_distance'] = df1['competition_distance'].apply(lambda x: 200000.0 if math.isnan( x ) else x )\n",
    "\n",
    "        # competition_open_since_month\n",
    "        df1['competition_open_since_month'] = df1.apply( lambda x: x['date'].month if math.isnan( x['competition_open_since_month'] ) else x['competition_open_since_month'],\n",
    "                                                    axis = 1 )\n",
    "        # competition_open_since_year\n",
    "        df1['competition_open_since_year'] = df1.apply( lambda x: x['date'].year if math.isnan( x['competition_open_since_year'] ) else x['competition_open_since_year'],\n",
    "                                                    axis = 1 )\n",
    "        # promo2_since_week\n",
    "        df1['promo2_since_week'] = df1.apply( lambda x: x['date'].week if math.isnan( x['promo2_since_week'] ) else x['promo2_since_week'],\n",
    "                                                    axis = 1 )\n",
    "        # promo2_since_year\n",
    "        df1['promo2_since_year'] = df1.apply( lambda x: x['date'].year if math.isnan( x['promo2_since_year'] ) else x['promo2_since_year'],\n",
    "                                                    axis = 1 )\n",
    "        # promo_interval\n",
    "        month_map = {1: 'Jan', 2: 'Feb', 3: 'Mar', 4: 'Apr', 5:'May', 6: 'Jun', 7: 'Jul', 8: 'Aug', 9: 'Sep', 10: 'Oct', 11: 'Nov', 12: 'Dec'}\n",
    "\n",
    "        df1['promo_interval'].fillna( 0, inplace = True)\n",
    "        df1['month_map'] = df1['date'].dt.month.map( month_map )\n",
    "        df1['is_promo'] = df1[[ 'promo_interval', 'month_map' ]].apply(lambda x: 0 if x['promo_interval'] == 0 else 1 if x['month_map'] in x['promo_interval'].split(',') else 0, axis = 1)\n",
    "\n",
    "        ### Change Types\n",
    "        df1 = df1.astype({'competition_open_since_month':'int64', 'competition_open_since_year':'int64', 'promo2_since_week':'int64', 'promo2_since_year':'int64' })\n",
    "        \n",
    "        return df1\n",
    "\n",
    "    def feature_engineering(self, df2):\n",
    "        # year\n",
    "        df2['year'] = df2['date'].dt.year\n",
    "\n",
    "        # month\n",
    "        df2['month'] = df2['date'].dt.month\n",
    "\n",
    "        # day\n",
    "        df2['day'] = df2['date'].dt.day\n",
    "\n",
    "        # week of year\n",
    "        df2['week_of_year'] = df2['date'].dt.isocalendar().week.astype('int64')\n",
    "\n",
    "        # year week\n",
    "        df2['year_week'] = df2['date'].dt.strftime( '%Y-%W' )\n",
    "\n",
    "        # competition since\n",
    "        df2['competition_since'] = df2.apply(lambda x: datetime.datetime( year = x['competition_open_since_year'], month = x['competition_open_since_month'], day=1 ), axis = 1)\n",
    "        df2['competition_time_month'] = ( ( df2['date'] - df2['competition_since'] )/30 ).apply( lambda x: x.days ).astype( 'int64' )\n",
    "\n",
    "        # promo since\n",
    "        df2['promo_since'] = df2['promo2_since_year'].astype( str ) + '-' + df2['promo2_since_week'].astype( str )\n",
    "        df2['promo_since'] = df2['promo_since'].apply( lambda x: datetime.datetime.strptime( x + '-1', '%Y-%W-%w' ) - datetime.timedelta( days=7 ) )\n",
    "        df2['promo_time_week'] = ( ( df2['date'] - df2['promo_since'] )/7 ).apply( lambda x: x.days ).astype( 'int64' )\n",
    "\n",
    "        # assortment\n",
    "        df2['assortment'] = df2['assortment'].apply( lambda x: 'basic' if x == 'a' else 'extra' if x == 'b' else 'extended' )\n",
    "\n",
    "        # state holiday\n",
    "        df2['state_holiday'] = df2['state_holiday'].apply( lambda x: 'public_holiday' if x == 'a' else 'easter_holiday' if x == 'b' else 'christmas' if x == 'c' else 'regular_day' )\n",
    "\n",
    "        ### Line Filtering\n",
    "        df2 = df2[df2['open'] != 0]\n",
    "\n",
    "        ### Columns Selection\n",
    "        cols_drop = ['open', 'promo_interval', 'month_map']\n",
    "        df2 = df2.drop( cols_drop, axis=1 )\n",
    "        \n",
    "        return df2\n",
    "\n",
    "    def data_preparation(self, df5):\n",
    "        # Rescaliing\n",
    "        # competition distance\n",
    "        df5['competition_distance'] = self.competition_distante_scaler.fit_transform( df5[['competition_distance']].values ) \n",
    "        \n",
    "        # competition time month\n",
    "        df5['competition_time_month'] = self.competition_time_month_scaler.fit_transform( df5[['competition_time_month']].values )\n",
    "        \n",
    "        # promo time week\n",
    "        df5['promo_time_week'] = self.promo_time_week_scaler.fit_transform( df5[['promo_time_week']].values )\n",
    "\n",
    "        # year\n",
    "        df5['year'] = self.year_scaler.fit_transform( df5[['year']].values )\n",
    "\n",
    "        ### Feature Transformation\n",
    "        #### Encoding\n",
    "\n",
    "        # state_holiday (it's a state, holidays are moments) - One Hot Enconding\n",
    "        df5 = pd.get_dummies(df5, prefix = ['state_holiday'], columns = ['state_holiday'], dtype  = 'int64' )\n",
    "\n",
    "        # store_type - Label Encoder\n",
    "        df5['store_type'] = self.store_type_scaler.fit_transform( df5['store_type'] )\n",
    "        \n",
    "        # assortment - Ordinal Encoder\n",
    "        assortment_dict = {'basic': 1, 'extra': 2, 'extended': 3}\n",
    "        df5['assortment'] = df5['assortment'].map( assortment_dict )\n",
    "\n",
    "        #### Nature Transformation\n",
    "        # day of week\n",
    "        df5['day_of_week_sin'] = df5['day_of_week'].apply( lambda x: np.sin( x * ( 2. * np.pi/7 ) ) )\n",
    "        df5['day_of_week_cos'] = df5['day_of_week'].apply( lambda x: np.cos( x * ( 2. * np.pi/7 ) ) )\n",
    "\n",
    "        # month\n",
    "        df5['month_sin'] = df5['month'].apply( lambda x: np.sin( x * ( 2. * np.pi/12 ) ) )\n",
    "        df5['month_cos'] = df5['month'].apply( lambda x: np.cos( x * ( 2. * np.pi/12 ) ) )\n",
    "\n",
    "        # day \n",
    "        df5['day_sin'] = df5['day'].apply( lambda x: np.sin( x * ( 2. * np.pi/30 ) ) )\n",
    "        df5['day_cos'] = df5['day'].apply( lambda x: np.cos( x * ( 2. * np.pi/30 ) ) )\n",
    "\n",
    "        # week of year\n",
    "        df5['week_of_year_sin'] = df5['week_of_year'].apply( lambda x: np.sin( x * ( 2. * np.pi/52 ) ) )\n",
    "        df5['week_of_year_cos'] = df5['week_of_year'].apply( lambda x: np.cos( x * ( 2. * np.pi/52 ) ) )\n",
    "        \n",
    "        # Converting dtypes after transformation\n",
    "        print(df5.columns)\n",
    "        df5 = df5.astype({'store_type': 'int64' })\n",
    "        # df5 = df5.astype({'store_type': 'int64' ,'state_holiday_christmas':'int64', 'state_holiday_easter_holiday':'int64', 'state_holiday_public_holiday':'int64', 'state_holiday_regular_day':'int64' })\n",
    "\n",
    "        cols_selected = ['store', 'promo', 'store_type', 'assortment', 'competition_distance', 'competition_open_since_month', 'competition_open_since_year', 'promo2', 'promo2_since_week', 'promo2_since_year', 'competition_time_month', 'promo_time_week', 'day_of_week_sin', 'day_of_week_cos','month_cos', 'month_sin', 'day_sin', 'day_cos', 'week_of_year_cos', 'week_of_year_sin']\n",
    "\n",
    "        return df5[cols_selected]\n",
    "    \n",
    "    def get_prediction(self, model, original_data, test_data):\n",
    "        # prediction\n",
    "        pred = model.predict(test_data)\n",
    "        \n",
    "        # join pred into the original data so people can undestandt it the new table with prediction column\n",
    "        original_data['prediction'] = np.expm1(pred)\n",
    "        \n",
    "        return original_data.to_json(orient = 'records', date_format = 'iso')"
   ]
  },
  {
   "cell_type": "markdown",
   "id": "critical-macro",
   "metadata": {},
   "source": [
    "### API Handler"
   ]
  },
  {
   "cell_type": "code",
   "execution_count": 54,
   "id": "accurate-daughter",
   "metadata": {
    "ExecuteTime": {
     "end_time": "2021-03-18T20:44:04.430124Z",
     "start_time": "2021-03-18T20:44:04.318207Z"
    }
   },
   "outputs": [
    {
     "ename": "ModuleNotFoundError",
     "evalue": "No module named 'rossmann'",
     "output_type": "error",
     "traceback": [
      "\u001b[1;31m---------------------------------------------------------------------------\u001b[0m",
      "\u001b[1;31mModuleNotFoundError\u001b[0m                       Traceback (most recent call last)",
      "\u001b[1;32m<ipython-input-54-4453bd70de38>\u001b[0m in \u001b[0;36m<module>\u001b[1;34m\u001b[0m\n\u001b[0;32m      2\u001b[0m \u001b[1;32mimport\u001b[0m \u001b[0mpandas\u001b[0m \u001b[1;32mas\u001b[0m \u001b[0mpd\u001b[0m\u001b[1;33m\u001b[0m\u001b[1;33m\u001b[0m\u001b[0m\n\u001b[0;32m      3\u001b[0m \u001b[1;32mfrom\u001b[0m \u001b[0mflask\u001b[0m            \u001b[1;32mimport\u001b[0m \u001b[0mFlask\u001b[0m\u001b[1;33m,\u001b[0m \u001b[0mrequest\u001b[0m\u001b[1;33m,\u001b[0m \u001b[0mResponse\u001b[0m\u001b[1;33m\u001b[0m\u001b[1;33m\u001b[0m\u001b[0m\n\u001b[1;32m----> 4\u001b[1;33m \u001b[1;32mfrom\u001b[0m \u001b[0mrossmann\u001b[0m\u001b[1;33m.\u001b[0m\u001b[0mRossmann\u001b[0m \u001b[1;32mimport\u001b[0m \u001b[0mRossmann\u001b[0m\u001b[1;33m\u001b[0m\u001b[1;33m\u001b[0m\u001b[0m\n\u001b[0m\u001b[0;32m      5\u001b[0m \u001b[1;33m\u001b[0m\u001b[0m\n\u001b[0;32m      6\u001b[0m \u001b[1;31m# loading model\u001b[0m\u001b[1;33m\u001b[0m\u001b[1;33m\u001b[0m\u001b[1;33m\u001b[0m\u001b[0m\n",
      "\u001b[1;31mModuleNotFoundError\u001b[0m: No module named 'rossmann'"
     ]
    }
   ],
   "source": [
    "import pickle\n",
    "import pandas as pd\n",
    "from flask            import Flask, request, Response\n",
    "from rossmann.Rossmann import Rossmann\n",
    "\n",
    "# loading model\n",
    "model = pickle.load(open('C:/Users/marxv/Documents/DataScience/Data-Science-Projects/Kaggle-Rossman-Sales-Prediction/model/model_rossmann.pkl', 'rb'))\n",
    "\n",
    "# initialize API\n",
    "app = Flask(__name__)\n",
    "\n",
    "@app.route('/rossmann/predict', methods = ['POST'])\n",
    "def rossmann_predict():\n",
    "    test_json = request.get_json()\n",
    "    \n",
    "    # Converting json in dataframe\n",
    "    if test_json: # there is data\n",
    "        if isinstance(test_json, dict): # Unique example\n",
    "            test_raw = pd.DataFrame(test_json, index = [0])\n",
    "        \n",
    "        else: # Multiple examples\n",
    "            test_raw = pd.DataFrame(test_json, columns = test_jason[0].keys())\n",
    "            \n",
    "        # Instantiate Rossmann class\n",
    "        pipeline = Rossmann()\n",
    "        \n",
    "        # data cleaning\n",
    "        df1 = pipeline.data_cleaning(test_raw)\n",
    "        \n",
    "        #feature engineering\n",
    "        df2 = pipeline.feature_engineering(df1)\n",
    "        \n",
    "        #data preparation\n",
    "        df3 = pipeline.data_preparation(df2)\n",
    "        \n",
    "        #prediction\n",
    "        df_response = pipeline.get_prediction(model, test_raw, df3)\n",
    "        \n",
    "        return df_response\n",
    "        \n",
    "    else:\n",
    "        return Response('{}', status = 200, mimetype = 'application/json')\n",
    "\n",
    "if __name__ == '__main__':\n",
    "    app.run('0.0.0.0') #indicando o localhost p/ simular"
   ]
  },
  {
   "cell_type": "markdown",
   "id": "black-stanford",
   "metadata": {},
   "source": [
    "### API Tester"
   ]
  },
  {
   "cell_type": "code",
   "execution_count": 5,
   "id": "monthly-witch",
   "metadata": {
    "ExecuteTime": {
     "end_time": "2021-03-19T01:05:06.132590Z",
     "start_time": "2021-03-19T01:05:05.984513Z"
    }
   },
   "outputs": [],
   "source": [
    "import requests"
   ]
  },
  {
   "cell_type": "code",
   "execution_count": 6,
   "id": "possible-attachment",
   "metadata": {
    "ExecuteTime": {
     "end_time": "2021-03-19T01:05:11.897751Z",
     "start_time": "2021-03-19T01:05:11.863842Z"
    }
   },
   "outputs": [],
   "source": [
    "# loading test dataset\n",
    "df10 = pd.read_csv('C:/Users/marxv/Documents/DataScience/Data-Science-Projects/Kaggle-Rossman-Sales-Prediction/data/test.csv')"
   ]
  },
  {
   "cell_type": "code",
   "execution_count": 7,
   "id": "together-trance",
   "metadata": {
    "ExecuteTime": {
     "end_time": "2021-03-19T01:05:13.318705Z",
     "start_time": "2021-03-19T01:05:13.282801Z"
    }
   },
   "outputs": [],
   "source": [
    "# merge test dataset + store attributes dataset\n",
    "df_test = pd.merge(df10, df_store_raw, how = 'left', on = 'Store')\n",
    "\n",
    "# choose store for prediction\n",
    "df_test = df_test[df_test['Store'].isin([24, 12, 22])]\n",
    "\n",
    "# remove closed days\n",
    "df_test = df_test[df_test['Open'] != 0]\n",
    "df_test = df_test[~df_test['Open'].isnull()]\n",
    "df_test = df_test.drop('Id', axis = 1)"
   ]
  },
  {
   "cell_type": "code",
   "execution_count": 8,
   "id": "demonstrated-strip",
   "metadata": {
    "ExecuteTime": {
     "end_time": "2021-03-19T01:05:17.627831Z",
     "start_time": "2021-03-19T01:05:17.612884Z"
    }
   },
   "outputs": [],
   "source": [
    "# convert dataframe to json\n",
    "data = json.dumps(df_test.to_dict(orient = 'records'))"
   ]
  },
  {
   "cell_type": "code",
   "execution_count": 97,
   "id": "conditional-integrity",
   "metadata": {
    "ExecuteTime": {
     "end_time": "2021-03-18T22:30:53.894277Z",
     "start_time": "2021-03-18T22:30:53.695809Z"
    }
   },
   "outputs": [
    {
     "name": "stdout",
     "output_type": "stream",
     "text": [
      "Status Code 200\n"
     ]
    }
   ],
   "source": [
    "# API Call\n",
    "# url = 'http://127.0.0.1:5000/rossmann/predict' #endpoint #porta 5000 é do flask\n",
    "url = 'https://rossmann-model-pred.herokuapp.com/rossmann/predict'\n",
    "header = {'Content-type': 'application/json' } #indica para a api qual tipo de dados que estamos recebendo\n",
    "data = data\n",
    "\n",
    "r = requests.post(url, data = data, headers = header)\n",
    "print('Status Code {}'.format(r.status_code))"
   ]
  },
  {
   "cell_type": "code",
   "execution_count": 98,
   "id": "connected-triumph",
   "metadata": {
    "ExecuteTime": {
     "end_time": "2021-03-18T22:30:59.577790Z",
     "start_time": "2021-03-18T22:30:59.556830Z"
    },
    "scrolled": true
   },
   "outputs": [
    {
     "data": {
      "text/html": [
       "<div>\n",
       "<style scoped>\n",
       "    .dataframe tbody tr th:only-of-type {\n",
       "        vertical-align: middle;\n",
       "    }\n",
       "\n",
       "    .dataframe tbody tr th {\n",
       "        vertical-align: top;\n",
       "    }\n",
       "\n",
       "    .dataframe thead th {\n",
       "        text-align: right;\n",
       "    }\n",
       "</style>\n",
       "<table border=\"1\" class=\"dataframe\">\n",
       "  <thead>\n",
       "    <tr style=\"text-align: right;\">\n",
       "      <th></th>\n",
       "      <th>store</th>\n",
       "      <th>day_of_week</th>\n",
       "      <th>date</th>\n",
       "      <th>open</th>\n",
       "      <th>promo</th>\n",
       "      <th>state_holiday</th>\n",
       "      <th>school_holiday</th>\n",
       "      <th>store_type</th>\n",
       "      <th>assortment</th>\n",
       "      <th>competition_distance</th>\n",
       "      <th>competition_open_since_month</th>\n",
       "      <th>competition_open_since_year</th>\n",
       "      <th>promo2</th>\n",
       "      <th>promo2_since_week</th>\n",
       "      <th>promo2_since_year</th>\n",
       "      <th>promo_interval</th>\n",
       "      <th>month_map</th>\n",
       "      <th>is_promo</th>\n",
       "      <th>prediction</th>\n",
       "    </tr>\n",
       "  </thead>\n",
       "  <tbody>\n",
       "    <tr>\n",
       "      <th>0</th>\n",
       "      <td>12</td>\n",
       "      <td>4</td>\n",
       "      <td>2015-09-17T00:00:00.000Z</td>\n",
       "      <td>1.0</td>\n",
       "      <td>1</td>\n",
       "      <td>0</td>\n",
       "      <td>0</td>\n",
       "      <td>a</td>\n",
       "      <td>c</td>\n",
       "      <td>1070.0</td>\n",
       "      <td>9.0</td>\n",
       "      <td>2015.0</td>\n",
       "      <td>1</td>\n",
       "      <td>13.0</td>\n",
       "      <td>2010.0</td>\n",
       "      <td>Jan,Apr,Jul,Oct</td>\n",
       "      <td>Sep</td>\n",
       "      <td>0</td>\n",
       "      <td>6545.956543</td>\n",
       "    </tr>\n",
       "    <tr>\n",
       "      <th>1</th>\n",
       "      <td>22</td>\n",
       "      <td>4</td>\n",
       "      <td>2015-09-17T00:00:00.000Z</td>\n",
       "      <td>1.0</td>\n",
       "      <td>1</td>\n",
       "      <td>0</td>\n",
       "      <td>0</td>\n",
       "      <td>a</td>\n",
       "      <td>a</td>\n",
       "      <td>1040.0</td>\n",
       "      <td>9.0</td>\n",
       "      <td>2015.0</td>\n",
       "      <td>1</td>\n",
       "      <td>22.0</td>\n",
       "      <td>2012.0</td>\n",
       "      <td>Jan,Apr,Jul,Oct</td>\n",
       "      <td>Sep</td>\n",
       "      <td>0</td>\n",
       "      <td>3947.366943</td>\n",
       "    </tr>\n",
       "    <tr>\n",
       "      <th>2</th>\n",
       "      <td>24</td>\n",
       "      <td>4</td>\n",
       "      <td>2015-09-17T00:00:00.000Z</td>\n",
       "      <td>1.0</td>\n",
       "      <td>1</td>\n",
       "      <td>0</td>\n",
       "      <td>0</td>\n",
       "      <td>a</td>\n",
       "      <td>c</td>\n",
       "      <td>4590.0</td>\n",
       "      <td>3.0</td>\n",
       "      <td>2000.0</td>\n",
       "      <td>1</td>\n",
       "      <td>40.0</td>\n",
       "      <td>2011.0</td>\n",
       "      <td>Jan,Apr,Jul,Oct</td>\n",
       "      <td>Sep</td>\n",
       "      <td>0</td>\n",
       "      <td>6276.212891</td>\n",
       "    </tr>\n",
       "    <tr>\n",
       "      <th>3</th>\n",
       "      <td>12</td>\n",
       "      <td>3</td>\n",
       "      <td>2015-09-16T00:00:00.000Z</td>\n",
       "      <td>1.0</td>\n",
       "      <td>1</td>\n",
       "      <td>0</td>\n",
       "      <td>0</td>\n",
       "      <td>a</td>\n",
       "      <td>c</td>\n",
       "      <td>1070.0</td>\n",
       "      <td>9.0</td>\n",
       "      <td>2015.0</td>\n",
       "      <td>1</td>\n",
       "      <td>13.0</td>\n",
       "      <td>2010.0</td>\n",
       "      <td>Jan,Apr,Jul,Oct</td>\n",
       "      <td>Sep</td>\n",
       "      <td>0</td>\n",
       "      <td>6546.468262</td>\n",
       "    </tr>\n",
       "    <tr>\n",
       "      <th>4</th>\n",
       "      <td>22</td>\n",
       "      <td>3</td>\n",
       "      <td>2015-09-16T00:00:00.000Z</td>\n",
       "      <td>1.0</td>\n",
       "      <td>1</td>\n",
       "      <td>0</td>\n",
       "      <td>0</td>\n",
       "      <td>a</td>\n",
       "      <td>a</td>\n",
       "      <td>1040.0</td>\n",
       "      <td>9.0</td>\n",
       "      <td>2015.0</td>\n",
       "      <td>1</td>\n",
       "      <td>22.0</td>\n",
       "      <td>2012.0</td>\n",
       "      <td>Jan,Apr,Jul,Oct</td>\n",
       "      <td>Sep</td>\n",
       "      <td>0</td>\n",
       "      <td>4111.592285</td>\n",
       "    </tr>\n",
       "  </tbody>\n",
       "</table>\n",
       "</div>"
      ],
      "text/plain": [
       "   store  day_of_week                      date  open  promo state_holiday  school_holiday store_type assortment  competition_distance  competition_open_since_month  competition_open_since_year  promo2  promo2_since_week  promo2_since_year   promo_interval month_map  is_promo   prediction\n",
       "0     12            4  2015-09-17T00:00:00.000Z   1.0      1             0               0          a          c                1070.0                           9.0                       2015.0       1               13.0             2010.0  Jan,Apr,Jul,Oct       Sep         0  6545.956543\n",
       "1     22            4  2015-09-17T00:00:00.000Z   1.0      1             0               0          a          a                1040.0                           9.0                       2015.0       1               22.0             2012.0  Jan,Apr,Jul,Oct       Sep         0  3947.366943\n",
       "2     24            4  2015-09-17T00:00:00.000Z   1.0      1             0               0          a          c                4590.0                           3.0                       2000.0       1               40.0             2011.0  Jan,Apr,Jul,Oct       Sep         0  6276.212891\n",
       "3     12            3  2015-09-16T00:00:00.000Z   1.0      1             0               0          a          c                1070.0                           9.0                       2015.0       1               13.0             2010.0  Jan,Apr,Jul,Oct       Sep         0  6546.468262\n",
       "4     22            3  2015-09-16T00:00:00.000Z   1.0      1             0               0          a          a                1040.0                           9.0                       2015.0       1               22.0             2012.0  Jan,Apr,Jul,Oct       Sep         0  4111.592285"
      ]
     },
     "execution_count": 98,
     "metadata": {},
     "output_type": "execute_result"
    }
   ],
   "source": [
    "d1 = pd.DataFrame(r.json(), columns = r.json()[0].keys())\n",
    "d1.head()"
   ]
  },
  {
   "cell_type": "code",
   "execution_count": 99,
   "id": "selective-techno",
   "metadata": {
    "ExecuteTime": {
     "end_time": "2021-03-18T22:31:01.413919Z",
     "start_time": "2021-03-18T22:31:01.405941Z"
    }
   },
   "outputs": [
    {
     "name": "stdout",
     "output_type": "stream",
     "text": [
      "Store Number 12 will sell R$ 248,855.54 in the next 6 weeks\n",
      "Store Number 22 will sell R$ 147,492.32 in the next 6 weeks\n",
      "Store Number 24 will sell R$ 247,536.25 in the next 6 weeks\n"
     ]
    }
   ],
   "source": [
    "d2 = d1[['store', 'prediction']].groupby('store').sum().reset_index()\n",
    "\n",
    "for i in range (len(d2)):\n",
    "    print( 'Store Number {} will sell R$ {:,.2f} in the next 6 weeks'.format(\n",
    "            d2.loc[i, 'store'], \n",
    "            d2.loc[i, 'prediction']) )\n",
    "    \n",
    "# for i in range( len( d2 ) ):\n",
    "#     print( 'Store Number {} will sell R${:,.2f} in the next 6 weeks'.format( \n",
    "#             d2.loc[i, 'store'], \n",
    "#             d2.loc[i, 'prediction'] ) )"
   ]
  },
  {
   "cell_type": "code",
   "execution_count": null,
   "id": "incoming-productivity",
   "metadata": {},
   "outputs": [],
   "source": []
  },
  {
   "cell_type": "code",
   "execution_count": null,
   "id": "controversial-paragraph",
   "metadata": {},
   "outputs": [],
   "source": []
  },
  {
   "cell_type": "code",
   "execution_count": null,
   "id": "behavioral-packing",
   "metadata": {},
   "outputs": [],
   "source": []
  },
  {
   "cell_type": "code",
   "execution_count": null,
   "id": "suffering-opposition",
   "metadata": {},
   "outputs": [],
   "source": []
  }
 ],
 "metadata": {
  "kernelspec": {
   "display_name": "Python 3",
   "language": "python",
   "name": "python3"
  },
  "language_info": {
   "codemirror_mode": {
    "name": "ipython",
    "version": 3
   },
   "file_extension": ".py",
   "mimetype": "text/x-python",
   "name": "python",
   "nbconvert_exporter": "python",
   "pygments_lexer": "ipython3",
   "version": "3.9.1"
  },
  "toc": {
   "base_numbering": 1,
   "nav_menu": {},
   "number_sections": true,
   "sideBar": true,
   "skip_h1_title": false,
   "title_cell": "Table of Contents",
   "title_sidebar": "Contents",
   "toc_cell": false,
   "toc_position": {},
   "toc_section_display": true,
   "toc_window_display": false
  }
 },
 "nbformat": 4,
 "nbformat_minor": 5
}
